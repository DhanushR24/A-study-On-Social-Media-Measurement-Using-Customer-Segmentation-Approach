{
 "cells": [
  {
   "cell_type": "code",
   "execution_count": 124,
   "id": "98f69422-bf2f-43f0-8dd8-cf6f72ad74c4",
   "metadata": {},
   "outputs": [],
   "source": [
    "import seaborn as sns\n",
    "import pandas as pd\n",
    "\n",
    "import matplotlib.pyplot as plt"
   ]
  },
  {
   "cell_type": "code",
   "execution_count": 125,
   "id": "a88b578a-ecb3-4c6e-8eaf-a93c23292154",
   "metadata": {},
   "outputs": [],
   "source": [
    "fb = pd.read_csv(\"./FB.csv\")\n",
    "twMAU = pd.read_csv(\"./TwitterMAU.csv\")\n",
    "tw = pd.read_csv(\"./Tw.csv\")"
   ]
  },
  {
   "cell_type": "code",
   "execution_count": 126,
   "id": "234b6d34-2e63-4419-b236-c6ebfe9b2826",
   "metadata": {},
   "outputs": [],
   "source": [
    "twMAU = twMAU.iloc[::-1]"
   ]
  },
  {
   "cell_type": "code",
   "execution_count": 127,
   "id": "d274bf65-53e0-431e-98db-fe408f0751e8",
   "metadata": {},
   "outputs": [],
   "source": [
    "fb = fb.iloc[::-1]"
   ]
  },
  {
   "cell_type": "code",
   "execution_count": 128,
   "id": "62ef202f-6f5e-470f-a348-a11a939cefff",
   "metadata": {},
   "outputs": [],
   "source": [
    "def fixQuarter(quarter : str, social : str):\n",
    "    data = quarter.split(\" \")\n",
    "    \n",
    "    if social == 'fb':\n",
    "        data = data[:-1]\n",
    "    \n",
    "    return data[0] + \"'\" + data[1][-2:]\n",
    "\n",
    "def fixTwQuarter(quarter : str):\n",
    "    data = quarter.split(\" \")\n",
    "    \n",
    "\n",
    "fb['quarter'] = fb['quarter'].apply(lambda quarter: fixQuarter(quarter, 'fb'))\n",
    "twMAU['quarter'] = twMAU['quarter'].apply(lambda quarter: fixQuarter(quarter, 'Tw'))"
   ]
  },
  {
   "cell_type": "code",
   "execution_count": 129,
   "id": "9d030722-b747-4f39-86b3-90c7099f3684",
   "metadata": {},
   "outputs": [
    {
     "data": {
      "text/html": [
       "<div>\n",
       "<style scoped>\n",
       "    .dataframe tbody tr th:only-of-type {\n",
       "        vertical-align: middle;\n",
       "    }\n",
       "\n",
       "    .dataframe tbody tr th {\n",
       "        vertical-align: top;\n",
       "    }\n",
       "\n",
       "    .dataframe thead th {\n",
       "        text-align: right;\n",
       "    }\n",
       "</style>\n",
       "<table border=\"1\" class=\"dataframe\">\n",
       "  <thead>\n",
       "    <tr style=\"text-align: right;\">\n",
       "      <th></th>\n",
       "      <th>quarter</th>\n",
       "      <th>DAU</th>\n",
       "      <th>MAU</th>\n",
       "    </tr>\n",
       "  </thead>\n",
       "  <tbody>\n",
       "    <tr>\n",
       "      <th>0</th>\n",
       "      <td>Q1'17</td>\n",
       "      <td>109</td>\n",
       "      <td>327.0</td>\n",
       "    </tr>\n",
       "    <tr>\n",
       "      <th>1</th>\n",
       "      <td>Q2'17</td>\n",
       "      <td>110</td>\n",
       "      <td>326.0</td>\n",
       "    </tr>\n",
       "    <tr>\n",
       "      <th>2</th>\n",
       "      <td>Q3'17</td>\n",
       "      <td>114</td>\n",
       "      <td>330.0</td>\n",
       "    </tr>\n",
       "    <tr>\n",
       "      <th>3</th>\n",
       "      <td>Q4'17</td>\n",
       "      <td>115</td>\n",
       "      <td>330.0</td>\n",
       "    </tr>\n",
       "    <tr>\n",
       "      <th>4</th>\n",
       "      <td>Q1'18</td>\n",
       "      <td>120</td>\n",
       "      <td>336.0</td>\n",
       "    </tr>\n",
       "    <tr>\n",
       "      <th>5</th>\n",
       "      <td>Q2'18</td>\n",
       "      <td>122</td>\n",
       "      <td>335.0</td>\n",
       "    </tr>\n",
       "    <tr>\n",
       "      <th>6</th>\n",
       "      <td>Q3'18</td>\n",
       "      <td>124</td>\n",
       "      <td>326.0</td>\n",
       "    </tr>\n",
       "    <tr>\n",
       "      <th>7</th>\n",
       "      <td>Q4'18</td>\n",
       "      <td>126</td>\n",
       "      <td>321.0</td>\n",
       "    </tr>\n",
       "    <tr>\n",
       "      <th>8</th>\n",
       "      <td>Q1'19</td>\n",
       "      <td>134</td>\n",
       "      <td>330.0</td>\n",
       "    </tr>\n",
       "  </tbody>\n",
       "</table>\n",
       "</div>"
      ],
      "text/plain": [
       "  quarter  DAU    MAU\n",
       "0   Q1'17  109  327.0\n",
       "1   Q2'17  110  326.0\n",
       "2   Q3'17  114  330.0\n",
       "3   Q4'17  115  330.0\n",
       "4   Q1'18  120  336.0\n",
       "5   Q2'18  122  335.0\n",
       "6   Q3'18  124  326.0\n",
       "7   Q4'18  126  321.0\n",
       "8   Q1'19  134  330.0"
      ]
     },
     "execution_count": 129,
     "metadata": {},
     "output_type": "execute_result"
    }
   ],
   "source": [
    "pd.merge(tw, twMAU, on=\"quarter\")"
   ]
  },
  {
   "cell_type": "code",
   "execution_count": 130,
   "id": "cafb8617-2291-48f2-94a8-7a2d58a949d6",
   "metadata": {},
   "outputs": [
    {
     "data": {
      "text/plain": [
       "<AxesSubplot:xlabel='quarter', ylabel='DAU'>"
      ]
     },
     "execution_count": 130,
     "metadata": {},
     "output_type": "execute_result"
    },
    {
     "data": {
      "image/png": "[encoded data removed]",
      "text/plain": [
       "<Figure size 2160x1152 with 1 Axes>"
      ]
     },
     "metadata": {
      "needs_background": "light"
     },
     "output_type": "display_data"
    }
   ],
   "source": [
    "plt.figure(figsize=(30, 16))\n",
    "sns.barplot(x = 'quarter', y = 'DAU', data=fb)"
   ]
  },
  {
   "cell_type": "code",
   "execution_count": 131,
   "id": "b5050f4e-9043-4418-a3c4-fd28f81a1db1",
   "metadata": {},
   "outputs": [],
   "source": [
    "# dataframe with corrected indexing...\n",
    "newTwitterMAU = pd.DataFrame(twMAU.iloc[:,:].values,columns=[\"quarter\",\"MAU\"])"
   ]
  },
  {
   "cell_type": "code",
   "execution_count": 132,
   "id": "a3329868-a335-45cc-810b-7b472b3a39e3",
   "metadata": {},
   "outputs": [
    {
     "name": "stdout",
     "output_type": "stream",
     "text": [
      "33\n"
     ]
    }
   ],
   "source": [
    "# finding appropriate time indices:\n",
    "print(len(newTwitterMAU['MAU']))\n",
    "n = len(newTwitterMAU['MAU'])\n",
    "\n",
    "time_col_values = []\n",
    "    \n",
    "if n%2 == 0:\n",
    "    time_col_values = [x for x in range(-(n-1),n,2)]\n",
    "else:\n",
    "    time_col_values = [x for x in range(-(n//2),(n//2)+1)]\n",
    "    "
   ]
  },
  {
   "cell_type": "code",
   "execution_count": 133,
   "id": "0bb7af7b-484f-4c9c-90d2-f852efcc820b",
   "metadata": {},
   "outputs": [
    {
     "data": {
      "text/plain": [
       "list"
      ]
     },
     "execution_count": 133,
     "metadata": {},
     "output_type": "execute_result"
    }
   ],
   "source": [
    "type(time_col_values)"
   ]
  },
  {
   "cell_type": "code",
   "execution_count": 134,
   "id": "5690c446-d814-4bc8-b746-6971ff07b4c6",
   "metadata": {},
   "outputs": [],
   "source": [
    "import numpy as np\n",
    "\n",
    "# adding the time dummy:\n",
    "newTwitterMAU['time'] = np.arange(len(newTwitterMAU.index)) #better option :')\n",
    "\n",
    "# newTwitterMAU['time'] = time_col_values \n",
    "\n",
    "# updated dataframe\n",
    "# print(newTwitterMAU)"
   ]
  },
  {
   "cell_type": "code",
   "execution_count": 135,
   "id": "6d0b7d56-9d77-4e4d-a28a-604113c102b7",
   "metadata": {},
   "outputs": [
    {
     "data": {
      "text/html": [
       "<div>\n",
       "<style scoped>\n",
       "    .dataframe tbody tr th:only-of-type {\n",
       "        vertical-align: middle;\n",
       "    }\n",
       "\n",
       "    .dataframe tbody tr th {\n",
       "        vertical-align: top;\n",
       "    }\n",
       "\n",
       "    .dataframe thead th {\n",
       "        text-align: right;\n",
       "    }\n",
       "</style>\n",
       "<table border=\"1\" class=\"dataframe\">\n",
       "  <thead>\n",
       "    <tr style=\"text-align: right;\">\n",
       "      <th></th>\n",
       "      <th>quarter</th>\n",
       "      <th>MAU</th>\n",
       "      <th>time</th>\n",
       "    </tr>\n",
       "  </thead>\n",
       "  <tbody>\n",
       "    <tr>\n",
       "      <th>0</th>\n",
       "      <td>Q1'11</td>\n",
       "      <td>68.0</td>\n",
       "      <td>0</td>\n",
       "    </tr>\n",
       "    <tr>\n",
       "      <th>1</th>\n",
       "      <td>Q2'11</td>\n",
       "      <td>85.0</td>\n",
       "      <td>1</td>\n",
       "    </tr>\n",
       "    <tr>\n",
       "      <th>2</th>\n",
       "      <td>Q3'11</td>\n",
       "      <td>101.0</td>\n",
       "      <td>2</td>\n",
       "    </tr>\n",
       "    <tr>\n",
       "      <th>3</th>\n",
       "      <td>Q4'11</td>\n",
       "      <td>117.0</td>\n",
       "      <td>3</td>\n",
       "    </tr>\n",
       "    <tr>\n",
       "      <th>4</th>\n",
       "      <td>Q1'12</td>\n",
       "      <td>138.0</td>\n",
       "      <td>4</td>\n",
       "    </tr>\n",
       "    <tr>\n",
       "      <th>5</th>\n",
       "      <td>Q2'12</td>\n",
       "      <td>151.0</td>\n",
       "      <td>5</td>\n",
       "    </tr>\n",
       "    <tr>\n",
       "      <th>6</th>\n",
       "      <td>Q3'12</td>\n",
       "      <td>167.0</td>\n",
       "      <td>6</td>\n",
       "    </tr>\n",
       "    <tr>\n",
       "      <th>7</th>\n",
       "      <td>Q4'12</td>\n",
       "      <td>185.0</td>\n",
       "      <td>7</td>\n",
       "    </tr>\n",
       "    <tr>\n",
       "      <th>8</th>\n",
       "      <td>Q1'13</td>\n",
       "      <td>204.0</td>\n",
       "      <td>8</td>\n",
       "    </tr>\n",
       "    <tr>\n",
       "      <th>9</th>\n",
       "      <td>Q2'13</td>\n",
       "      <td>218.0</td>\n",
       "      <td>9</td>\n",
       "    </tr>\n",
       "    <tr>\n",
       "      <th>10</th>\n",
       "      <td>Q3'13</td>\n",
       "      <td>231.7</td>\n",
       "      <td>10</td>\n",
       "    </tr>\n",
       "    <tr>\n",
       "      <th>11</th>\n",
       "      <td>Q4'13</td>\n",
       "      <td>241.0</td>\n",
       "      <td>11</td>\n",
       "    </tr>\n",
       "    <tr>\n",
       "      <th>12</th>\n",
       "      <td>Q1'14</td>\n",
       "      <td>255.0</td>\n",
       "      <td>12</td>\n",
       "    </tr>\n",
       "    <tr>\n",
       "      <th>13</th>\n",
       "      <td>Q2'14</td>\n",
       "      <td>271.0</td>\n",
       "      <td>13</td>\n",
       "    </tr>\n",
       "    <tr>\n",
       "      <th>14</th>\n",
       "      <td>Q3'14</td>\n",
       "      <td>284.0</td>\n",
       "      <td>14</td>\n",
       "    </tr>\n",
       "    <tr>\n",
       "      <th>15</th>\n",
       "      <td>Q4'14</td>\n",
       "      <td>288.0</td>\n",
       "      <td>15</td>\n",
       "    </tr>\n",
       "    <tr>\n",
       "      <th>16</th>\n",
       "      <td>Q1'15</td>\n",
       "      <td>302.0</td>\n",
       "      <td>16</td>\n",
       "    </tr>\n",
       "    <tr>\n",
       "      <th>17</th>\n",
       "      <td>Q2'15</td>\n",
       "      <td>304.0</td>\n",
       "      <td>17</td>\n",
       "    </tr>\n",
       "    <tr>\n",
       "      <th>18</th>\n",
       "      <td>Q3'15</td>\n",
       "      <td>307.0</td>\n",
       "      <td>18</td>\n",
       "    </tr>\n",
       "    <tr>\n",
       "      <th>19</th>\n",
       "      <td>Q4'15</td>\n",
       "      <td>305.0</td>\n",
       "      <td>19</td>\n",
       "    </tr>\n",
       "    <tr>\n",
       "      <th>20</th>\n",
       "      <td>Q1'16</td>\n",
       "      <td>310.0</td>\n",
       "      <td>20</td>\n",
       "    </tr>\n",
       "    <tr>\n",
       "      <th>21</th>\n",
       "      <td>Q2'16</td>\n",
       "      <td>313.0</td>\n",
       "      <td>21</td>\n",
       "    </tr>\n",
       "    <tr>\n",
       "      <th>22</th>\n",
       "      <td>Q3'16</td>\n",
       "      <td>317.0</td>\n",
       "      <td>22</td>\n",
       "    </tr>\n",
       "    <tr>\n",
       "      <th>23</th>\n",
       "      <td>Q4'16</td>\n",
       "      <td>318.0</td>\n",
       "      <td>23</td>\n",
       "    </tr>\n",
       "    <tr>\n",
       "      <th>24</th>\n",
       "      <td>Q1'17</td>\n",
       "      <td>327.0</td>\n",
       "      <td>24</td>\n",
       "    </tr>\n",
       "    <tr>\n",
       "      <th>25</th>\n",
       "      <td>Q2'17</td>\n",
       "      <td>326.0</td>\n",
       "      <td>25</td>\n",
       "    </tr>\n",
       "    <tr>\n",
       "      <th>26</th>\n",
       "      <td>Q3'17</td>\n",
       "      <td>330.0</td>\n",
       "      <td>26</td>\n",
       "    </tr>\n",
       "    <tr>\n",
       "      <th>27</th>\n",
       "      <td>Q4'17</td>\n",
       "      <td>330.0</td>\n",
       "      <td>27</td>\n",
       "    </tr>\n",
       "    <tr>\n",
       "      <th>28</th>\n",
       "      <td>Q1'18</td>\n",
       "      <td>336.0</td>\n",
       "      <td>28</td>\n",
       "    </tr>\n",
       "    <tr>\n",
       "      <th>29</th>\n",
       "      <td>Q2'18</td>\n",
       "      <td>335.0</td>\n",
       "      <td>29</td>\n",
       "    </tr>\n",
       "    <tr>\n",
       "      <th>30</th>\n",
       "      <td>Q3'18</td>\n",
       "      <td>326.0</td>\n",
       "      <td>30</td>\n",
       "    </tr>\n",
       "    <tr>\n",
       "      <th>31</th>\n",
       "      <td>Q4'18</td>\n",
       "      <td>321.0</td>\n",
       "      <td>31</td>\n",
       "    </tr>\n",
       "    <tr>\n",
       "      <th>32</th>\n",
       "      <td>Q1'19</td>\n",
       "      <td>330.0</td>\n",
       "      <td>32</td>\n",
       "    </tr>\n",
       "  </tbody>\n",
       "</table>\n",
       "</div>"
      ],
      "text/plain": [
       "   quarter    MAU  time\n",
       "0    Q1'11   68.0     0\n",
       "1    Q2'11   85.0     1\n",
       "2    Q3'11  101.0     2\n",
       "3    Q4'11  117.0     3\n",
       "4    Q1'12  138.0     4\n",
       "5    Q2'12  151.0     5\n",
       "6    Q3'12  167.0     6\n",
       "7    Q4'12  185.0     7\n",
       "8    Q1'13  204.0     8\n",
       "9    Q2'13  218.0     9\n",
       "10   Q3'13  231.7    10\n",
       "11   Q4'13  241.0    11\n",
       "12   Q1'14  255.0    12\n",
       "13   Q2'14  271.0    13\n",
       "14   Q3'14  284.0    14\n",
       "15   Q4'14  288.0    15\n",
       "16   Q1'15  302.0    16\n",
       "17   Q2'15  304.0    17\n",
       "18   Q3'15  307.0    18\n",
       "19   Q4'15  305.0    19\n",
       "20   Q1'16  310.0    20\n",
       "21   Q2'16  313.0    21\n",
       "22   Q3'16  317.0    22\n",
       "23   Q4'16  318.0    23\n",
       "24   Q1'17  327.0    24\n",
       "25   Q2'17  326.0    25\n",
       "26   Q3'17  330.0    26\n",
       "27   Q4'17  330.0    27\n",
       "28   Q1'18  336.0    28\n",
       "29   Q2'18  335.0    29\n",
       "30   Q3'18  326.0    30\n",
       "31   Q4'18  321.0    31\n",
       "32   Q1'19  330.0    32"
      ]
     },
     "execution_count": 135,
     "metadata": {},
     "output_type": "execute_result"
    }
   ],
   "source": [
    "newTwitterMAU"
   ]
  },
  {
   "cell_type": "code",
   "execution_count": 136,
   "id": "e4466770-8f32-4cdf-80e3-7257294d96b2",
   "metadata": {},
   "outputs": [],
   "source": [
    "from sklearn.linear_model import LinearRegression"
   ]
  },
  {
   "cell_type": "code",
   "execution_count": 137,
   "id": "0336c57f-74fc-4f05-8f8a-ee2b6b5a6472",
   "metadata": {},
   "outputs": [],
   "source": [
    "from sklearn.svm import SVR"
   ]
  },
  {
   "cell_type": "code",
   "execution_count": 138,
   "id": "33a1ac38-9e03-4bfa-987b-e7de057df6a1",
   "metadata": {},
   "outputs": [],
   "source": [
    "from sklearn.neighbors import KNeighborsRegressor"
   ]
  },
  {
   "cell_type": "code",
   "execution_count": 139,
   "id": "a5998ebd-dc80-4b4b-94e7-8936a2517f4e",
   "metadata": {},
   "outputs": [],
   "source": [
    "from sklearn.tree import DecisionTreeRegressor"
   ]
  },
  {
   "cell_type": "code",
   "execution_count": 140,
   "id": "26bb7eff-9a32-4900-a400-12166cf6f36c",
   "metadata": {},
   "outputs": [],
   "source": [
    "from sklearn.svm import LinearSVR"
   ]
  },
  {
   "cell_type": "code",
   "execution_count": 29,
   "id": "11b4ed6b-1188-4fd4-9daa-deb46218e602",
   "metadata": {
    "tags": []
   },
   "outputs": [],
   "source": [
    "df = newTwitterMAU.copy()"
   ]
  },
  {
   "cell_type": "code",
   "execution_count": 66,
   "id": "f45fc07d-5a47-4aab-96bf-80495f8508fd",
   "metadata": {},
   "outputs": [
    {
     "data": {
      "text/plain": [
       "LinearRegression()"
      ]
     },
     "execution_count": 66,
     "metadata": {},
     "output_type": "execute_result"
    }
   ],
   "source": [
    "#training data:\n",
    "\n",
    "X = df.loc[:, ['time']]\n",
    "Y = df.loc[:,'MAU']\n",
    "\n",
    "model = LinearRegression()\n",
    "model.fit(X,Y)"
   ]
  },
  {
   "cell_type": "code",
   "execution_count": 67,
   "id": "212af574-b6d3-4cb5-84a9-a3d0dd683b33",
   "metadata": {},
   "outputs": [
    {
     "data": {
      "text/plain": [
       "SVR()"
      ]
     },
     "execution_count": 67,
     "metadata": {},
     "output_type": "execute_result"
    }
   ],
   "source": [
    "SVM = SVR()\n",
    "SVM.fit(X, Y)"
   ]
  },
  {
   "cell_type": "code",
   "execution_count": 95,
   "id": "30ef696f-ec4d-4031-bedf-d55dafe2b97e",
   "metadata": {},
   "outputs": [
    {
     "data": {
      "text/plain": [
       "KNeighborsRegressor(n_neighbors=10)"
      ]
     },
     "execution_count": 95,
     "metadata": {},
     "output_type": "execute_result"
    }
   ],
   "source": [
    "KNR = KNeighborsRegressor(n_neighbors=10)\n",
    "\n",
    "KNR.fit(X, Y)"
   ]
  },
  {
   "cell_type": "code",
   "execution_count": 107,
   "id": "77eb3f54-ad83-4d0d-a007-a93dfa753a43",
   "metadata": {},
   "outputs": [
    {
     "data": {
      "text/plain": [
       "DecisionTreeRegressor()"
      ]
     },
     "execution_count": 107,
     "metadata": {},
     "output_type": "execute_result"
    }
   ],
   "source": [
    "DTR = DecisionTreeRegressor()\n",
    "\n",
    "DTR.fit(X, Y)"
   ]
  },
  {
   "cell_type": "code",
   "execution_count": 121,
   "id": "3b5b6c8b-f976-4c30-815b-257fa8cd2e51",
   "metadata": {},
   "outputs": [
    {
     "data": {
      "text/plain": [
       "LinearSVR()"
      ]
     },
     "execution_count": 121,
     "metadata": {},
     "output_type": "execute_result"
    }
   ],
   "source": [
    "lsvr = LinearSVR()\n",
    "\n",
    "lsvr.fit(X, Y)"
   ]
  },
  {
   "cell_type": "code",
   "execution_count": 108,
   "id": "c862548e-1cdb-4910-a62f-bda2b223944a",
   "metadata": {},
   "outputs": [],
   "source": [
    "# a list with time indices corressponding to future quarters:\n",
    "time_indices = range(33,65) #Q2 2019 to #Q4 2021 \n",
    "\n",
    "data_values = {\"time\":time_indices}\n",
    "\n",
    "# test data\n",
    "x_test = pd.DataFrame(data_values)\n",
    "# print(x_test)"
   ]
  },
  {
   "cell_type": "code",
   "execution_count": 109,
   "id": "307e616e-6a7f-4d22-8b2e-0c5a42b80031",
   "metadata": {},
   "outputs": [],
   "source": [
    "y_pred = model.predict(x_test)"
   ]
  },
  {
   "cell_type": "code",
   "execution_count": 110,
   "id": "22f54c40-5db6-4a4d-a16e-ed51cc1ba9d2",
   "metadata": {},
   "outputs": [],
   "source": [
    "svm_pred = SVM.predict(x_test)"
   ]
  },
  {
   "cell_type": "code",
   "execution_count": 111,
   "id": "b1a94e8b-2767-4ca0-b90f-8335273c3b0a",
   "metadata": {},
   "outputs": [],
   "source": [
    "knr_pred = KNR.predict(x_test)"
   ]
  },
  {
   "cell_type": "code",
   "execution_count": 112,
   "id": "6abef7c9-b8f5-48cd-b72a-2f4604f62930",
   "metadata": {},
   "outputs": [],
   "source": [
    "dtr_pred = DTR.predict(x_test)"
   ]
  },
  {
   "cell_type": "code",
   "execution_count": 122,
   "id": "a21e2b27-8452-49cb-a6da-463100cb6ccc",
   "metadata": {},
   "outputs": [],
   "source": [
    "lsvr_pred = lsvr.predict(x_test)"
   ]
  },
  {
   "cell_type": "code",
   "execution_count": 113,
   "id": "8e891b2b-c24d-4f87-a9e4-49288d3047e2",
   "metadata": {},
   "outputs": [
    {
     "name": "stdout",
     "output_type": "stream",
     "text": [
      "[391.60340909 399.59131016 407.57921123 415.5671123  423.55501337\n",
      " 431.54291444 439.53081551 447.51871658 455.50661765 463.49451872]\n"
     ]
    }
   ],
   "source": [
    "print(y_pred[:10])"
   ]
  },
  {
   "cell_type": "code",
   "execution_count": 114,
   "id": "108bff9b-95e8-4f3a-b541-abb98c60b950",
   "metadata": {},
   "outputs": [
    {
     "name": "stdout",
     "output_type": "stream",
     "text": [
      "[307.31017734 306.40877047 305.51345054 304.65033544 303.84076955\n",
      " 303.10076551 302.44084209 301.86624807 301.37751965 300.97128622]\n"
     ]
    }
   ],
   "source": [
    "print(svm_pred[:10])"
   ]
  },
  {
   "cell_type": "code",
   "execution_count": 115,
   "id": "7c25ddf2-9e81-4f3e-8b88-54a5e971eee0",
   "metadata": {
    "tags": []
   },
   "outputs": [
    {
     "name": "stdout",
     "output_type": "stream",
     "text": [
      "[327.9 327.9 327.9 327.9 327.9 327.9 327.9 327.9 327.9 327.9]\n"
     ]
    }
   ],
   "source": [
    "print(knr_pred[:10])"
   ]
  },
  {
   "cell_type": "code",
   "execution_count": 116,
   "id": "3b345697-953f-48dd-9e43-11e9f91a05ab",
   "metadata": {},
   "outputs": [
    {
     "name": "stdout",
     "output_type": "stream",
     "text": [
      "[330. 330. 330. 330. 330. 330. 330. 330. 330. 330.]\n"
     ]
    }
   ],
   "source": [
    "print(dtr_pred[:10])"
   ]
  },
  {
   "cell_type": "code",
   "execution_count": 123,
   "id": "f7bf9458-0790-487c-b33c-bea7adc168c1",
   "metadata": {},
   "outputs": [
    {
     "name": "stdout",
     "output_type": "stream",
     "text": [
      "[449.94339623 463.13773585 476.33207547 489.52641509 502.72075472\n",
      " 515.91509434 529.10943396 542.30377358 555.49811321 568.69245283]\n"
     ]
    }
   ],
   "source": [
    "print(lsvr_pred[:10])"
   ]
  },
  {
   "cell_type": "code",
   "execution_count": 37,
   "id": "673281e5-0b77-4c05-a734-3ff0d56c3d27",
   "metadata": {},
   "outputs": [
    {
     "data": {
      "text/plain": [
       "array([447.51871658])"
      ]
     },
     "execution_count": 37,
     "metadata": {},
     "output_type": "execute_result"
    }
   ],
   "source": [
    "model.predict(pd.DataFrame({\"time\":[40]}))"
   ]
  },
  {
   "cell_type": "code",
   "execution_count": 38,
   "id": "1d9dc5b2-0964-4573-bf4f-f2bbac3af566",
   "metadata": {},
   "outputs": [
    {
     "data": {
      "text/plain": [
       "array([307.31017734])"
      ]
     },
     "execution_count": 38,
     "metadata": {},
     "output_type": "execute_result"
    }
   ],
   "source": [
    "SVM.predict(pd.DataFrame({\"time\":[33]}))"
   ]
  },
  {
   "cell_type": "code",
   "execution_count": 39,
   "id": "a1a56553-1ef4-4b66-bdc4-e590252afbd7",
   "metadata": {},
   "outputs": [
    {
     "data": {
      "image/png": "[encoded data removed]",
      "text/plain": [
       "<Figure size 1440x576 with 1 Axes>"
      ]
     },
     "metadata": {
      "needs_background": "light"
     },
     "output_type": "display_data"
    }
   ],
   "source": [
    "plt.figure(figsize=(20, 8))\n",
    "plt.scatter(newTwitterMAU['quarter'],newTwitterMAU['MAU'])\n",
    "plt.show()"
   ]
  },
  {
   "cell_type": "code",
   "execution_count": 40,
   "id": "8981a1f7-82a3-48bd-8ce6-e73406330867",
   "metadata": {},
   "outputs": [
    {
     "data": {
      "image/png": "[encoded data removed]",
      "text/plain": [
       "<Figure size 432x288 with 1 Axes>"
      ]
     },
     "metadata": {
      "needs_background": "light"
     },
     "output_type": "display_data"
    }
   ],
   "source": [
    "plt.scatter(x_test,y_pred)\n",
    "plt.show()"
   ]
  },
  {
   "cell_type": "code",
   "execution_count": null,
   "id": "d3d8ecd3-9fde-4037-9bf5-a56d2575c52d",
   "metadata": {},
   "outputs": [],
   "source": []
  },
  {
   "cell_type": "markdown",
   "id": "d3ab953c-a57e-4079-b3a0-3c02306ff31c",
   "metadata": {},
   "source": [
    "<hr>"
   ]
  },
  {
   "cell_type": "code",
   "execution_count": 41,
   "id": "661e1bd6-3f2f-41fc-8b8e-a167b3a56181",
   "metadata": {},
   "outputs": [
    {
     "name": "stderr",
     "output_type": "stream",
     "text": [
      "C:\\Users\\Dhanush\\AppData\\Local\\Temp/ipykernel_16376/3373565889.py:3: FutureWarning: The frame.append method is deprecated and will be removed from pandas in a future version. Use pandas.concat instead.\n",
      "  newTwitterMAU = newTwitterMAU.append({\"quarter\":\"Q\"+str(i)+\"'19\", \"MAU\":int(y_pred[i-2])},ignore_index=True)\n",
      "C:\\Users\\Dhanush\\AppData\\Local\\Temp/ipykernel_16376/3373565889.py:3: FutureWarning: The frame.append method is deprecated and will be removed from pandas in a future version. Use pandas.concat instead.\n",
      "  newTwitterMAU = newTwitterMAU.append({\"quarter\":\"Q\"+str(i)+\"'19\", \"MAU\":int(y_pred[i-2])},ignore_index=True)\n",
      "C:\\Users\\Dhanush\\AppData\\Local\\Temp/ipykernel_16376/3373565889.py:3: FutureWarning: The frame.append method is deprecated and will be removed from pandas in a future version. Use pandas.concat instead.\n",
      "  newTwitterMAU = newTwitterMAU.append({\"quarter\":\"Q\"+str(i)+\"'19\", \"MAU\":int(y_pred[i-2])},ignore_index=True)\n"
     ]
    }
   ],
   "source": [
    "for i in range(2,5):\n",
    "    mySeries = pd.Series([(\"Q\"+str(i)+\"'19\"),y_pred[i-2]])\n",
    "    newTwitterMAU = newTwitterMAU.append({\"quarter\":\"Q\"+str(i)+\"'19\", \"MAU\":int(y_pred[i-2])},ignore_index=True)"
   ]
  },
  {
   "cell_type": "code",
   "execution_count": 42,
   "id": "cca0872d-6354-4ad9-a5bc-06d5418c45cc",
   "metadata": {},
   "outputs": [
    {
     "data": {
      "text/html": [
       "<div>\n",
       "<style scoped>\n",
       "    .dataframe tbody tr th:only-of-type {\n",
       "        vertical-align: middle;\n",
       "    }\n",
       "\n",
       "    .dataframe tbody tr th {\n",
       "        vertical-align: top;\n",
       "    }\n",
       "\n",
       "    .dataframe thead th {\n",
       "        text-align: right;\n",
       "    }\n",
       "</style>\n",
       "<table border=\"1\" class=\"dataframe\">\n",
       "  <thead>\n",
       "    <tr style=\"text-align: right;\">\n",
       "      <th></th>\n",
       "      <th>index</th>\n",
       "      <th>quarter</th>\n",
       "      <th>MAU</th>\n",
       "      <th>time</th>\n",
       "    </tr>\n",
       "  </thead>\n",
       "  <tbody>\n",
       "    <tr>\n",
       "      <th>0</th>\n",
       "      <td>0</td>\n",
       "      <td>Q1'11</td>\n",
       "      <td>68.0</td>\n",
       "      <td>0.0</td>\n",
       "    </tr>\n",
       "    <tr>\n",
       "      <th>1</th>\n",
       "      <td>1</td>\n",
       "      <td>Q2'11</td>\n",
       "      <td>85.0</td>\n",
       "      <td>1.0</td>\n",
       "    </tr>\n",
       "    <tr>\n",
       "      <th>2</th>\n",
       "      <td>2</td>\n",
       "      <td>Q3'11</td>\n",
       "      <td>101.0</td>\n",
       "      <td>2.0</td>\n",
       "    </tr>\n",
       "    <tr>\n",
       "      <th>3</th>\n",
       "      <td>3</td>\n",
       "      <td>Q4'11</td>\n",
       "      <td>117.0</td>\n",
       "      <td>3.0</td>\n",
       "    </tr>\n",
       "    <tr>\n",
       "      <th>4</th>\n",
       "      <td>4</td>\n",
       "      <td>Q1'12</td>\n",
       "      <td>138.0</td>\n",
       "      <td>4.0</td>\n",
       "    </tr>\n",
       "    <tr>\n",
       "      <th>5</th>\n",
       "      <td>5</td>\n",
       "      <td>Q2'12</td>\n",
       "      <td>151.0</td>\n",
       "      <td>5.0</td>\n",
       "    </tr>\n",
       "    <tr>\n",
       "      <th>6</th>\n",
       "      <td>6</td>\n",
       "      <td>Q3'12</td>\n",
       "      <td>167.0</td>\n",
       "      <td>6.0</td>\n",
       "    </tr>\n",
       "    <tr>\n",
       "      <th>7</th>\n",
       "      <td>7</td>\n",
       "      <td>Q4'12</td>\n",
       "      <td>185.0</td>\n",
       "      <td>7.0</td>\n",
       "    </tr>\n",
       "    <tr>\n",
       "      <th>8</th>\n",
       "      <td>8</td>\n",
       "      <td>Q1'13</td>\n",
       "      <td>204.0</td>\n",
       "      <td>8.0</td>\n",
       "    </tr>\n",
       "    <tr>\n",
       "      <th>9</th>\n",
       "      <td>9</td>\n",
       "      <td>Q2'13</td>\n",
       "      <td>218.0</td>\n",
       "      <td>9.0</td>\n",
       "    </tr>\n",
       "    <tr>\n",
       "      <th>10</th>\n",
       "      <td>10</td>\n",
       "      <td>Q3'13</td>\n",
       "      <td>231.7</td>\n",
       "      <td>10.0</td>\n",
       "    </tr>\n",
       "    <tr>\n",
       "      <th>11</th>\n",
       "      <td>11</td>\n",
       "      <td>Q4'13</td>\n",
       "      <td>241.0</td>\n",
       "      <td>11.0</td>\n",
       "    </tr>\n",
       "    <tr>\n",
       "      <th>12</th>\n",
       "      <td>12</td>\n",
       "      <td>Q1'14</td>\n",
       "      <td>255.0</td>\n",
       "      <td>12.0</td>\n",
       "    </tr>\n",
       "    <tr>\n",
       "      <th>13</th>\n",
       "      <td>13</td>\n",
       "      <td>Q2'14</td>\n",
       "      <td>271.0</td>\n",
       "      <td>13.0</td>\n",
       "    </tr>\n",
       "    <tr>\n",
       "      <th>14</th>\n",
       "      <td>14</td>\n",
       "      <td>Q3'14</td>\n",
       "      <td>284.0</td>\n",
       "      <td>14.0</td>\n",
       "    </tr>\n",
       "    <tr>\n",
       "      <th>15</th>\n",
       "      <td>15</td>\n",
       "      <td>Q4'14</td>\n",
       "      <td>288.0</td>\n",
       "      <td>15.0</td>\n",
       "    </tr>\n",
       "    <tr>\n",
       "      <th>16</th>\n",
       "      <td>16</td>\n",
       "      <td>Q1'15</td>\n",
       "      <td>302.0</td>\n",
       "      <td>16.0</td>\n",
       "    </tr>\n",
       "    <tr>\n",
       "      <th>17</th>\n",
       "      <td>17</td>\n",
       "      <td>Q2'15</td>\n",
       "      <td>304.0</td>\n",
       "      <td>17.0</td>\n",
       "    </tr>\n",
       "    <tr>\n",
       "      <th>18</th>\n",
       "      <td>18</td>\n",
       "      <td>Q3'15</td>\n",
       "      <td>307.0</td>\n",
       "      <td>18.0</td>\n",
       "    </tr>\n",
       "    <tr>\n",
       "      <th>19</th>\n",
       "      <td>19</td>\n",
       "      <td>Q4'15</td>\n",
       "      <td>305.0</td>\n",
       "      <td>19.0</td>\n",
       "    </tr>\n",
       "    <tr>\n",
       "      <th>20</th>\n",
       "      <td>20</td>\n",
       "      <td>Q1'16</td>\n",
       "      <td>310.0</td>\n",
       "      <td>20.0</td>\n",
       "    </tr>\n",
       "    <tr>\n",
       "      <th>21</th>\n",
       "      <td>21</td>\n",
       "      <td>Q2'16</td>\n",
       "      <td>313.0</td>\n",
       "      <td>21.0</td>\n",
       "    </tr>\n",
       "    <tr>\n",
       "      <th>22</th>\n",
       "      <td>22</td>\n",
       "      <td>Q3'16</td>\n",
       "      <td>317.0</td>\n",
       "      <td>22.0</td>\n",
       "    </tr>\n",
       "    <tr>\n",
       "      <th>23</th>\n",
       "      <td>23</td>\n",
       "      <td>Q4'16</td>\n",
       "      <td>318.0</td>\n",
       "      <td>23.0</td>\n",
       "    </tr>\n",
       "    <tr>\n",
       "      <th>24</th>\n",
       "      <td>24</td>\n",
       "      <td>Q1'17</td>\n",
       "      <td>327.0</td>\n",
       "      <td>24.0</td>\n",
       "    </tr>\n",
       "    <tr>\n",
       "      <th>25</th>\n",
       "      <td>25</td>\n",
       "      <td>Q2'17</td>\n",
       "      <td>326.0</td>\n",
       "      <td>25.0</td>\n",
       "    </tr>\n",
       "    <tr>\n",
       "      <th>26</th>\n",
       "      <td>26</td>\n",
       "      <td>Q3'17</td>\n",
       "      <td>330.0</td>\n",
       "      <td>26.0</td>\n",
       "    </tr>\n",
       "    <tr>\n",
       "      <th>27</th>\n",
       "      <td>27</td>\n",
       "      <td>Q4'17</td>\n",
       "      <td>330.0</td>\n",
       "      <td>27.0</td>\n",
       "    </tr>\n",
       "    <tr>\n",
       "      <th>28</th>\n",
       "      <td>28</td>\n",
       "      <td>Q1'18</td>\n",
       "      <td>336.0</td>\n",
       "      <td>28.0</td>\n",
       "    </tr>\n",
       "    <tr>\n",
       "      <th>29</th>\n",
       "      <td>29</td>\n",
       "      <td>Q2'18</td>\n",
       "      <td>335.0</td>\n",
       "      <td>29.0</td>\n",
       "    </tr>\n",
       "    <tr>\n",
       "      <th>30</th>\n",
       "      <td>30</td>\n",
       "      <td>Q3'18</td>\n",
       "      <td>326.0</td>\n",
       "      <td>30.0</td>\n",
       "    </tr>\n",
       "    <tr>\n",
       "      <th>31</th>\n",
       "      <td>31</td>\n",
       "      <td>Q4'18</td>\n",
       "      <td>321.0</td>\n",
       "      <td>31.0</td>\n",
       "    </tr>\n",
       "    <tr>\n",
       "      <th>32</th>\n",
       "      <td>32</td>\n",
       "      <td>Q1'19</td>\n",
       "      <td>330.0</td>\n",
       "      <td>32.0</td>\n",
       "    </tr>\n",
       "    <tr>\n",
       "      <th>33</th>\n",
       "      <td>33</td>\n",
       "      <td>Q2'19</td>\n",
       "      <td>391</td>\n",
       "      <td>NaN</td>\n",
       "    </tr>\n",
       "    <tr>\n",
       "      <th>34</th>\n",
       "      <td>34</td>\n",
       "      <td>Q3'19</td>\n",
       "      <td>399</td>\n",
       "      <td>NaN</td>\n",
       "    </tr>\n",
       "    <tr>\n",
       "      <th>35</th>\n",
       "      <td>35</td>\n",
       "      <td>Q4'19</td>\n",
       "      <td>407</td>\n",
       "      <td>NaN</td>\n",
       "    </tr>\n",
       "  </tbody>\n",
       "</table>\n",
       "</div>"
      ],
      "text/plain": [
       "    index quarter    MAU  time\n",
       "0       0   Q1'11   68.0   0.0\n",
       "1       1   Q2'11   85.0   1.0\n",
       "2       2   Q3'11  101.0   2.0\n",
       "3       3   Q4'11  117.0   3.0\n",
       "4       4   Q1'12  138.0   4.0\n",
       "5       5   Q2'12  151.0   5.0\n",
       "6       6   Q3'12  167.0   6.0\n",
       "7       7   Q4'12  185.0   7.0\n",
       "8       8   Q1'13  204.0   8.0\n",
       "9       9   Q2'13  218.0   9.0\n",
       "10     10   Q3'13  231.7  10.0\n",
       "11     11   Q4'13  241.0  11.0\n",
       "12     12   Q1'14  255.0  12.0\n",
       "13     13   Q2'14  271.0  13.0\n",
       "14     14   Q3'14  284.0  14.0\n",
       "15     15   Q4'14  288.0  15.0\n",
       "16     16   Q1'15  302.0  16.0\n",
       "17     17   Q2'15  304.0  17.0\n",
       "18     18   Q3'15  307.0  18.0\n",
       "19     19   Q4'15  305.0  19.0\n",
       "20     20   Q1'16  310.0  20.0\n",
       "21     21   Q2'16  313.0  21.0\n",
       "22     22   Q3'16  317.0  22.0\n",
       "23     23   Q4'16  318.0  23.0\n",
       "24     24   Q1'17  327.0  24.0\n",
       "25     25   Q2'17  326.0  25.0\n",
       "26     26   Q3'17  330.0  26.0\n",
       "27     27   Q4'17  330.0  27.0\n",
       "28     28   Q1'18  336.0  28.0\n",
       "29     29   Q2'18  335.0  29.0\n",
       "30     30   Q3'18  326.0  30.0\n",
       "31     31   Q4'18  321.0  31.0\n",
       "32     32   Q1'19  330.0  32.0\n",
       "33     33   Q2'19    391   NaN\n",
       "34     34   Q3'19    399   NaN\n",
       "35     35   Q4'19    407   NaN"
      ]
     },
     "execution_count": 42,
     "metadata": {},
     "output_type": "execute_result"
    }
   ],
   "source": [
    "newTwitterMAU.reset_index()"
   ]
  },
  {
   "cell_type": "code",
   "execution_count": 43,
   "id": "49b63350-e89a-48d8-ba25-e9d9458e185a",
   "metadata": {},
   "outputs": [
    {
     "data": {
      "text/html": [
       "<div>\n",
       "<style scoped>\n",
       "    .dataframe tbody tr th:only-of-type {\n",
       "        vertical-align: middle;\n",
       "    }\n",
       "\n",
       "    .dataframe tbody tr th {\n",
       "        vertical-align: top;\n",
       "    }\n",
       "\n",
       "    .dataframe thead th {\n",
       "        text-align: right;\n",
       "    }\n",
       "</style>\n",
       "<table border=\"1\" class=\"dataframe\">\n",
       "  <thead>\n",
       "    <tr style=\"text-align: right;\">\n",
       "      <th></th>\n",
       "      <th>quarter</th>\n",
       "      <th>MAU</th>\n",
       "      <th>time</th>\n",
       "    </tr>\n",
       "  </thead>\n",
       "  <tbody>\n",
       "    <tr>\n",
       "      <th>0</th>\n",
       "      <td>Q1'11</td>\n",
       "      <td>68.0</td>\n",
       "      <td>0.0</td>\n",
       "    </tr>\n",
       "    <tr>\n",
       "      <th>1</th>\n",
       "      <td>Q2'11</td>\n",
       "      <td>85.0</td>\n",
       "      <td>1.0</td>\n",
       "    </tr>\n",
       "    <tr>\n",
       "      <th>2</th>\n",
       "      <td>Q3'11</td>\n",
       "      <td>101.0</td>\n",
       "      <td>2.0</td>\n",
       "    </tr>\n",
       "    <tr>\n",
       "      <th>3</th>\n",
       "      <td>Q4'11</td>\n",
       "      <td>117.0</td>\n",
       "      <td>3.0</td>\n",
       "    </tr>\n",
       "    <tr>\n",
       "      <th>4</th>\n",
       "      <td>Q1'12</td>\n",
       "      <td>138.0</td>\n",
       "      <td>4.0</td>\n",
       "    </tr>\n",
       "    <tr>\n",
       "      <th>5</th>\n",
       "      <td>Q2'12</td>\n",
       "      <td>151.0</td>\n",
       "      <td>5.0</td>\n",
       "    </tr>\n",
       "    <tr>\n",
       "      <th>6</th>\n",
       "      <td>Q3'12</td>\n",
       "      <td>167.0</td>\n",
       "      <td>6.0</td>\n",
       "    </tr>\n",
       "    <tr>\n",
       "      <th>7</th>\n",
       "      <td>Q4'12</td>\n",
       "      <td>185.0</td>\n",
       "      <td>7.0</td>\n",
       "    </tr>\n",
       "    <tr>\n",
       "      <th>8</th>\n",
       "      <td>Q1'13</td>\n",
       "      <td>204.0</td>\n",
       "      <td>8.0</td>\n",
       "    </tr>\n",
       "    <tr>\n",
       "      <th>9</th>\n",
       "      <td>Q2'13</td>\n",
       "      <td>218.0</td>\n",
       "      <td>9.0</td>\n",
       "    </tr>\n",
       "    <tr>\n",
       "      <th>10</th>\n",
       "      <td>Q3'13</td>\n",
       "      <td>231.7</td>\n",
       "      <td>10.0</td>\n",
       "    </tr>\n",
       "    <tr>\n",
       "      <th>11</th>\n",
       "      <td>Q4'13</td>\n",
       "      <td>241.0</td>\n",
       "      <td>11.0</td>\n",
       "    </tr>\n",
       "    <tr>\n",
       "      <th>12</th>\n",
       "      <td>Q1'14</td>\n",
       "      <td>255.0</td>\n",
       "      <td>12.0</td>\n",
       "    </tr>\n",
       "    <tr>\n",
       "      <th>13</th>\n",
       "      <td>Q2'14</td>\n",
       "      <td>271.0</td>\n",
       "      <td>13.0</td>\n",
       "    </tr>\n",
       "    <tr>\n",
       "      <th>14</th>\n",
       "      <td>Q3'14</td>\n",
       "      <td>284.0</td>\n",
       "      <td>14.0</td>\n",
       "    </tr>\n",
       "    <tr>\n",
       "      <th>15</th>\n",
       "      <td>Q4'14</td>\n",
       "      <td>288.0</td>\n",
       "      <td>15.0</td>\n",
       "    </tr>\n",
       "    <tr>\n",
       "      <th>16</th>\n",
       "      <td>Q1'15</td>\n",
       "      <td>302.0</td>\n",
       "      <td>16.0</td>\n",
       "    </tr>\n",
       "    <tr>\n",
       "      <th>17</th>\n",
       "      <td>Q2'15</td>\n",
       "      <td>304.0</td>\n",
       "      <td>17.0</td>\n",
       "    </tr>\n",
       "    <tr>\n",
       "      <th>18</th>\n",
       "      <td>Q3'15</td>\n",
       "      <td>307.0</td>\n",
       "      <td>18.0</td>\n",
       "    </tr>\n",
       "    <tr>\n",
       "      <th>19</th>\n",
       "      <td>Q4'15</td>\n",
       "      <td>305.0</td>\n",
       "      <td>19.0</td>\n",
       "    </tr>\n",
       "    <tr>\n",
       "      <th>20</th>\n",
       "      <td>Q1'16</td>\n",
       "      <td>310.0</td>\n",
       "      <td>20.0</td>\n",
       "    </tr>\n",
       "    <tr>\n",
       "      <th>21</th>\n",
       "      <td>Q2'16</td>\n",
       "      <td>313.0</td>\n",
       "      <td>21.0</td>\n",
       "    </tr>\n",
       "    <tr>\n",
       "      <th>22</th>\n",
       "      <td>Q3'16</td>\n",
       "      <td>317.0</td>\n",
       "      <td>22.0</td>\n",
       "    </tr>\n",
       "    <tr>\n",
       "      <th>23</th>\n",
       "      <td>Q4'16</td>\n",
       "      <td>318.0</td>\n",
       "      <td>23.0</td>\n",
       "    </tr>\n",
       "    <tr>\n",
       "      <th>24</th>\n",
       "      <td>Q1'17</td>\n",
       "      <td>327.0</td>\n",
       "      <td>24.0</td>\n",
       "    </tr>\n",
       "    <tr>\n",
       "      <th>25</th>\n",
       "      <td>Q2'17</td>\n",
       "      <td>326.0</td>\n",
       "      <td>25.0</td>\n",
       "    </tr>\n",
       "    <tr>\n",
       "      <th>26</th>\n",
       "      <td>Q3'17</td>\n",
       "      <td>330.0</td>\n",
       "      <td>26.0</td>\n",
       "    </tr>\n",
       "    <tr>\n",
       "      <th>27</th>\n",
       "      <td>Q4'17</td>\n",
       "      <td>330.0</td>\n",
       "      <td>27.0</td>\n",
       "    </tr>\n",
       "    <tr>\n",
       "      <th>28</th>\n",
       "      <td>Q1'18</td>\n",
       "      <td>336.0</td>\n",
       "      <td>28.0</td>\n",
       "    </tr>\n",
       "    <tr>\n",
       "      <th>29</th>\n",
       "      <td>Q2'18</td>\n",
       "      <td>335.0</td>\n",
       "      <td>29.0</td>\n",
       "    </tr>\n",
       "    <tr>\n",
       "      <th>30</th>\n",
       "      <td>Q3'18</td>\n",
       "      <td>326.0</td>\n",
       "      <td>30.0</td>\n",
       "    </tr>\n",
       "    <tr>\n",
       "      <th>31</th>\n",
       "      <td>Q4'18</td>\n",
       "      <td>321.0</td>\n",
       "      <td>31.0</td>\n",
       "    </tr>\n",
       "    <tr>\n",
       "      <th>32</th>\n",
       "      <td>Q1'19</td>\n",
       "      <td>330.0</td>\n",
       "      <td>32.0</td>\n",
       "    </tr>\n",
       "    <tr>\n",
       "      <th>33</th>\n",
       "      <td>Q2'19</td>\n",
       "      <td>391</td>\n",
       "      <td>NaN</td>\n",
       "    </tr>\n",
       "    <tr>\n",
       "      <th>34</th>\n",
       "      <td>Q3'19</td>\n",
       "      <td>399</td>\n",
       "      <td>NaN</td>\n",
       "    </tr>\n",
       "    <tr>\n",
       "      <th>35</th>\n",
       "      <td>Q4'19</td>\n",
       "      <td>407</td>\n",
       "      <td>NaN</td>\n",
       "    </tr>\n",
       "  </tbody>\n",
       "</table>\n",
       "</div>"
      ],
      "text/plain": [
       "   quarter    MAU  time\n",
       "0    Q1'11   68.0   0.0\n",
       "1    Q2'11   85.0   1.0\n",
       "2    Q3'11  101.0   2.0\n",
       "3    Q4'11  117.0   3.0\n",
       "4    Q1'12  138.0   4.0\n",
       "5    Q2'12  151.0   5.0\n",
       "6    Q3'12  167.0   6.0\n",
       "7    Q4'12  185.0   7.0\n",
       "8    Q1'13  204.0   8.0\n",
       "9    Q2'13  218.0   9.0\n",
       "10   Q3'13  231.7  10.0\n",
       "11   Q4'13  241.0  11.0\n",
       "12   Q1'14  255.0  12.0\n",
       "13   Q2'14  271.0  13.0\n",
       "14   Q3'14  284.0  14.0\n",
       "15   Q4'14  288.0  15.0\n",
       "16   Q1'15  302.0  16.0\n",
       "17   Q2'15  304.0  17.0\n",
       "18   Q3'15  307.0  18.0\n",
       "19   Q4'15  305.0  19.0\n",
       "20   Q1'16  310.0  20.0\n",
       "21   Q2'16  313.0  21.0\n",
       "22   Q3'16  317.0  22.0\n",
       "23   Q4'16  318.0  23.0\n",
       "24   Q1'17  327.0  24.0\n",
       "25   Q2'17  326.0  25.0\n",
       "26   Q3'17  330.0  26.0\n",
       "27   Q4'17  330.0  27.0\n",
       "28   Q1'18  336.0  28.0\n",
       "29   Q2'18  335.0  29.0\n",
       "30   Q3'18  326.0  30.0\n",
       "31   Q4'18  321.0  31.0\n",
       "32   Q1'19  330.0  32.0\n",
       "33   Q2'19    391   NaN\n",
       "34   Q3'19    399   NaN\n",
       "35   Q4'19    407   NaN"
      ]
     },
     "execution_count": 43,
     "metadata": {},
     "output_type": "execute_result"
    }
   ],
   "source": [
    "newTwitterMAU"
   ]
  },
  {
   "cell_type": "code",
   "execution_count": 44,
   "id": "266bf331-10b5-4bc0-a39f-9109498fd95f",
   "metadata": {},
   "outputs": [],
   "source": [
    "# get data from Q1'17 to Q4'19\n",
    "TwMAU = newTwitterMAU.iloc[24:].copy().reset_index().iloc[:, 1:3]\n",
    "TwDAU = tw.iloc[:16].copy().reset_index().iloc[:, 1:3]\n",
    "Twitter = pd.merge(TwMAU, TwDAU, on=\"quarter\")\n",
    "Facebook = fb.iloc[3:15, :].copy().reset_index()[[\"quarter\", \"DAU\", \"MAU\"]]"
   ]
  },
  {
   "cell_type": "code",
   "execution_count": 45,
   "id": "d4bfee40-1f2b-48b9-9322-82074b079578",
   "metadata": {},
   "outputs": [
    {
     "data": {
      "text/html": [
       "<div>\n",
       "<style scoped>\n",
       "    .dataframe tbody tr th:only-of-type {\n",
       "        vertical-align: middle;\n",
       "    }\n",
       "\n",
       "    .dataframe tbody tr th {\n",
       "        vertical-align: top;\n",
       "    }\n",
       "\n",
       "    .dataframe thead th {\n",
       "        text-align: right;\n",
       "    }\n",
       "</style>\n",
       "<table border=\"1\" class=\"dataframe\">\n",
       "  <thead>\n",
       "    <tr style=\"text-align: right;\">\n",
       "      <th></th>\n",
       "      <th>quarter</th>\n",
       "      <th>MAU</th>\n",
       "      <th>DAU</th>\n",
       "    </tr>\n",
       "  </thead>\n",
       "  <tbody>\n",
       "    <tr>\n",
       "      <th>0</th>\n",
       "      <td>Q1'17</td>\n",
       "      <td>327.0</td>\n",
       "      <td>109</td>\n",
       "    </tr>\n",
       "    <tr>\n",
       "      <th>1</th>\n",
       "      <td>Q2'17</td>\n",
       "      <td>326.0</td>\n",
       "      <td>110</td>\n",
       "    </tr>\n",
       "    <tr>\n",
       "      <th>2</th>\n",
       "      <td>Q3'17</td>\n",
       "      <td>330.0</td>\n",
       "      <td>114</td>\n",
       "    </tr>\n",
       "    <tr>\n",
       "      <th>3</th>\n",
       "      <td>Q4'17</td>\n",
       "      <td>330.0</td>\n",
       "      <td>115</td>\n",
       "    </tr>\n",
       "    <tr>\n",
       "      <th>4</th>\n",
       "      <td>Q1'18</td>\n",
       "      <td>336.0</td>\n",
       "      <td>120</td>\n",
       "    </tr>\n",
       "    <tr>\n",
       "      <th>5</th>\n",
       "      <td>Q2'18</td>\n",
       "      <td>335.0</td>\n",
       "      <td>122</td>\n",
       "    </tr>\n",
       "    <tr>\n",
       "      <th>6</th>\n",
       "      <td>Q3'18</td>\n",
       "      <td>326.0</td>\n",
       "      <td>124</td>\n",
       "    </tr>\n",
       "    <tr>\n",
       "      <th>7</th>\n",
       "      <td>Q4'18</td>\n",
       "      <td>321.0</td>\n",
       "      <td>126</td>\n",
       "    </tr>\n",
       "    <tr>\n",
       "      <th>8</th>\n",
       "      <td>Q1'19</td>\n",
       "      <td>330.0</td>\n",
       "      <td>134</td>\n",
       "    </tr>\n",
       "    <tr>\n",
       "      <th>9</th>\n",
       "      <td>Q2'19</td>\n",
       "      <td>391</td>\n",
       "      <td>139</td>\n",
       "    </tr>\n",
       "    <tr>\n",
       "      <th>10</th>\n",
       "      <td>Q3'19</td>\n",
       "      <td>399</td>\n",
       "      <td>145</td>\n",
       "    </tr>\n",
       "    <tr>\n",
       "      <th>11</th>\n",
       "      <td>Q4'19</td>\n",
       "      <td>407</td>\n",
       "      <td>152</td>\n",
       "    </tr>\n",
       "  </tbody>\n",
       "</table>\n",
       "</div>"
      ],
      "text/plain": [
       "   quarter    MAU  DAU\n",
       "0    Q1'17  327.0  109\n",
       "1    Q2'17  326.0  110\n",
       "2    Q3'17  330.0  114\n",
       "3    Q4'17  330.0  115\n",
       "4    Q1'18  336.0  120\n",
       "5    Q2'18  335.0  122\n",
       "6    Q3'18  326.0  124\n",
       "7    Q4'18  321.0  126\n",
       "8    Q1'19  330.0  134\n",
       "9    Q2'19    391  139\n",
       "10   Q3'19    399  145\n",
       "11   Q4'19    407  152"
      ]
     },
     "execution_count": 45,
     "metadata": {},
     "output_type": "execute_result"
    }
   ],
   "source": [
    "Twitter"
   ]
  },
  {
   "cell_type": "code",
   "execution_count": 46,
   "id": "cc3b1b14-f4ef-466f-a2a2-1d18aafc4530",
   "metadata": {},
   "outputs": [
    {
     "data": {
      "text/html": [
       "<div>\n",
       "<style scoped>\n",
       "    .dataframe tbody tr th:only-of-type {\n",
       "        vertical-align: middle;\n",
       "    }\n",
       "\n",
       "    .dataframe tbody tr th {\n",
       "        vertical-align: top;\n",
       "    }\n",
       "\n",
       "    .dataframe thead th {\n",
       "        text-align: right;\n",
       "    }\n",
       "</style>\n",
       "<table border=\"1\" class=\"dataframe\">\n",
       "  <thead>\n",
       "    <tr style=\"text-align: right;\">\n",
       "      <th></th>\n",
       "      <th>quarter</th>\n",
       "      <th>DAU</th>\n",
       "      <th>MAU</th>\n",
       "    </tr>\n",
       "  </thead>\n",
       "  <tbody>\n",
       "    <tr>\n",
       "      <th>0</th>\n",
       "      <td>Q1'17</td>\n",
       "      <td>1.28</td>\n",
       "      <td>1.94</td>\n",
       "    </tr>\n",
       "    <tr>\n",
       "      <th>1</th>\n",
       "      <td>Q2'17</td>\n",
       "      <td>1.32</td>\n",
       "      <td>2.01</td>\n",
       "    </tr>\n",
       "    <tr>\n",
       "      <th>2</th>\n",
       "      <td>Q3'17</td>\n",
       "      <td>1.37</td>\n",
       "      <td>2.07</td>\n",
       "    </tr>\n",
       "    <tr>\n",
       "      <th>3</th>\n",
       "      <td>Q4'17</td>\n",
       "      <td>1.40</td>\n",
       "      <td>2.13</td>\n",
       "    </tr>\n",
       "    <tr>\n",
       "      <th>4</th>\n",
       "      <td>Q1'18</td>\n",
       "      <td>1.45</td>\n",
       "      <td>2.20</td>\n",
       "    </tr>\n",
       "    <tr>\n",
       "      <th>5</th>\n",
       "      <td>Q2'18</td>\n",
       "      <td>1.47</td>\n",
       "      <td>2.23</td>\n",
       "    </tr>\n",
       "    <tr>\n",
       "      <th>6</th>\n",
       "      <td>Q3'18</td>\n",
       "      <td>1.49</td>\n",
       "      <td>2.27</td>\n",
       "    </tr>\n",
       "    <tr>\n",
       "      <th>7</th>\n",
       "      <td>Q4'18</td>\n",
       "      <td>1.52</td>\n",
       "      <td>2.32</td>\n",
       "    </tr>\n",
       "    <tr>\n",
       "      <th>8</th>\n",
       "      <td>Q1'19</td>\n",
       "      <td>1.56</td>\n",
       "      <td>2.38</td>\n",
       "    </tr>\n",
       "    <tr>\n",
       "      <th>9</th>\n",
       "      <td>Q2'19</td>\n",
       "      <td>1.59</td>\n",
       "      <td>2.41</td>\n",
       "    </tr>\n",
       "    <tr>\n",
       "      <th>10</th>\n",
       "      <td>Q3'19</td>\n",
       "      <td>1.62</td>\n",
       "      <td>2.45</td>\n",
       "    </tr>\n",
       "    <tr>\n",
       "      <th>11</th>\n",
       "      <td>Q4'19</td>\n",
       "      <td>1.66</td>\n",
       "      <td>2.50</td>\n",
       "    </tr>\n",
       "  </tbody>\n",
       "</table>\n",
       "</div>"
      ],
      "text/plain": [
       "   quarter   DAU   MAU\n",
       "0    Q1'17  1.28  1.94\n",
       "1    Q2'17  1.32  2.01\n",
       "2    Q3'17  1.37  2.07\n",
       "3    Q4'17  1.40  2.13\n",
       "4    Q1'18  1.45  2.20\n",
       "5    Q2'18  1.47  2.23\n",
       "6    Q3'18  1.49  2.27\n",
       "7    Q4'18  1.52  2.32\n",
       "8    Q1'19  1.56  2.38\n",
       "9    Q2'19  1.59  2.41\n",
       "10   Q3'19  1.62  2.45\n",
       "11   Q4'19  1.66  2.50"
      ]
     },
     "execution_count": 46,
     "metadata": {},
     "output_type": "execute_result"
    }
   ],
   "source": [
    "Facebook"
   ]
  },
  {
   "cell_type": "code",
   "execution_count": 47,
   "id": "4ef53e27-6701-4a90-9335-9a06ce06a7ea",
   "metadata": {},
   "outputs": [],
   "source": [
    "Twitter.to_csv(\"./TwitterC.csv\")\n",
    "Facebook.to_csv(\"./FacebookC.csv\")"
   ]
  },
  {
   "cell_type": "code",
   "execution_count": 48,
   "id": "1e5e1431-4f6c-4deb-9bff-8c14343a74cd",
   "metadata": {},
   "outputs": [
    {
     "data": {
      "text/plain": [
       "<BarContainer object of 12 artists>"
      ]
     },
     "execution_count": 48,
     "metadata": {},
     "output_type": "execute_result"
    },
    {
     "data": {
      "image/png": "[encoded data removed]",
      "text/plain": [
       "<Figure size 1440x576 with 1 Axes>"
      ]
     },
     "metadata": {
      "needs_background": "light"
     },
     "output_type": "display_data"
    }
   ],
   "source": [
    "import matplotlib.pyplot as plt\n",
    "\n",
    "\n",
    "plt.figure(figsize=(20, 8))\n",
    "plt.bar(Facebook[\"quarter\"], Facebook[\"DAU\"], width=0.5)\n",
    "plt.bar(Twitter[\"quarter\"], Twitter[\"DAU\"]/1000, width=0.5)"
   ]
  },
  {
   "cell_type": "code",
   "execution_count": 50,
   "id": "ad085b8e-1737-4d50-95fc-9c91075e920c",
   "metadata": {},
   "outputs": [
    {
     "data": {
      "text/plain": [
       "<BarContainer object of 12 artists>"
      ]
     },
     "execution_count": 50,
     "metadata": {},
     "output_type": "execute_result"
    },
    {
     "data": {
      "image/png": "[encoded data removed]",
      "text/plain": [
       "<Figure size 1440x576 with 1 Axes>"
      ]
     },
     "metadata": {
      "needs_background": "light"
     },
     "output_type": "display_data"
    }
   ],
   "source": [
    "import matplotlib.pyplot as plt\n",
    "\n",
    "\n",
    "plt.figure(figsize=(20, 8))\n",
    "plt.bar(Facebook[\"quarter\"], Facebook[\"MAU\"], width=0.5)\n",
    "plt.bar(Twitter[\"quarter\"], Twitter[\"MAU\"]/1000, width=0.5)"
   ]
  },
  {
   "cell_type": "code",
   "execution_count": 51,
   "id": "1066540a-633c-45db-b94a-4b0b15f34ae0",
   "metadata": {},
   "outputs": [
    {
     "data": {
      "image/png": "[encoded data removed]",
      "text/plain": [
       "<Figure size 1440x576 with 1 Axes>"
      ]
     },
     "metadata": {
      "needs_background": "light"
     },
     "output_type": "display_data"
    }
   ],
   "source": [
    "import matplotlib.pyplot as plt\n",
    "\n",
    "\n",
    "plt.figure(figsize=(20, 8))\n",
    "plt.plot(Facebook[\"quarter\"], Facebook[\"DAU\"], \"k--o\", label=\"Facebook\")\n",
    "plt.plot(Twitter[\"quarter\"], Twitter[\"DAU\"]/1000, \"r--o\", label=\"Twitter\")\n",
    "plt.xlabel(\"Quarters\")\n",
    "plt.ylabel(\"Users(Billions)\")\n",
    "plt.legend()\n",
    "\n",
    "plt.show()"
   ]
  },
  {
   "cell_type": "code",
   "execution_count": 52,
   "id": "bfe71707-8ddb-4d62-8ecf-c83f3a67bb45",
   "metadata": {},
   "outputs": [
    {
     "data": {
      "image/png": "[encoded data removed]",
      "text/plain": [
       "<Figure size 1440x576 with 1 Axes>"
      ]
     },
     "metadata": {
      "needs_background": "light"
     },
     "output_type": "display_data"
    }
   ],
   "source": [
    "import matplotlib.pyplot as plt\n",
    "\n",
    "\n",
    "plt.figure(figsize=(20, 8))\n",
    "plt.plot(Facebook[\"quarter\"], Facebook[\"MAU\"], \"k--o\", label=\"Facebook\")\n",
    "plt.plot(Twitter[\"quarter\"], Twitter[\"MAU\"]/1000, \"r--o\", label=\"Twitter\")\n",
    "plt.xlabel(\"Quarters\")\n",
    "plt.ylabel(\"Users(Billions)\")\n",
    "plt.legend()\n",
    "\n",
    "plt.show()"
   ]
  },
  {
   "cell_type": "code",
   "execution_count": 53,
   "id": "6dc273dc-55c1-4b4a-bc76-c8ea2a30b185",
   "metadata": {},
   "outputs": [
    {
     "data": {
      "text/html": [
       "<div>\n",
       "<style scoped>\n",
       "    .dataframe tbody tr th:only-of-type {\n",
       "        vertical-align: middle;\n",
       "    }\n",
       "\n",
       "    .dataframe tbody tr th {\n",
       "        vertical-align: top;\n",
       "    }\n",
       "\n",
       "    .dataframe thead th {\n",
       "        text-align: right;\n",
       "    }\n",
       "</style>\n",
       "<table border=\"1\" class=\"dataframe\">\n",
       "  <thead>\n",
       "    <tr style=\"text-align: right;\">\n",
       "      <th></th>\n",
       "      <th>quarter</th>\n",
       "      <th>MAU</th>\n",
       "      <th>DAU</th>\n",
       "    </tr>\n",
       "  </thead>\n",
       "  <tbody>\n",
       "    <tr>\n",
       "      <th>0</th>\n",
       "      <td>Q1'17</td>\n",
       "      <td>0.000000</td>\n",
       "      <td>0.000000</td>\n",
       "    </tr>\n",
       "    <tr>\n",
       "      <th>1</th>\n",
       "      <td>Q2'17</td>\n",
       "      <td>-0.003058</td>\n",
       "      <td>0.009174</td>\n",
       "    </tr>\n",
       "    <tr>\n",
       "      <th>2</th>\n",
       "      <td>Q3'17</td>\n",
       "      <td>0.009174</td>\n",
       "      <td>0.045872</td>\n",
       "    </tr>\n",
       "    <tr>\n",
       "      <th>3</th>\n",
       "      <td>Q4'17</td>\n",
       "      <td>0.009174</td>\n",
       "      <td>0.055046</td>\n",
       "    </tr>\n",
       "    <tr>\n",
       "      <th>4</th>\n",
       "      <td>Q1'18</td>\n",
       "      <td>0.027523</td>\n",
       "      <td>0.100917</td>\n",
       "    </tr>\n",
       "    <tr>\n",
       "      <th>5</th>\n",
       "      <td>Q2'18</td>\n",
       "      <td>0.024465</td>\n",
       "      <td>0.119266</td>\n",
       "    </tr>\n",
       "    <tr>\n",
       "      <th>6</th>\n",
       "      <td>Q3'18</td>\n",
       "      <td>-0.003058</td>\n",
       "      <td>0.137615</td>\n",
       "    </tr>\n",
       "    <tr>\n",
       "      <th>7</th>\n",
       "      <td>Q4'18</td>\n",
       "      <td>-0.018349</td>\n",
       "      <td>0.155963</td>\n",
       "    </tr>\n",
       "    <tr>\n",
       "      <th>8</th>\n",
       "      <td>Q1'19</td>\n",
       "      <td>0.009174</td>\n",
       "      <td>0.229358</td>\n",
       "    </tr>\n",
       "    <tr>\n",
       "      <th>9</th>\n",
       "      <td>Q2'19</td>\n",
       "      <td>0.195719</td>\n",
       "      <td>0.275229</td>\n",
       "    </tr>\n",
       "    <tr>\n",
       "      <th>10</th>\n",
       "      <td>Q3'19</td>\n",
       "      <td>0.220183</td>\n",
       "      <td>0.330275</td>\n",
       "    </tr>\n",
       "    <tr>\n",
       "      <th>11</th>\n",
       "      <td>Q4'19</td>\n",
       "      <td>0.244648</td>\n",
       "      <td>0.394495</td>\n",
       "    </tr>\n",
       "  </tbody>\n",
       "</table>\n",
       "</div>"
      ],
      "text/plain": [
       "   quarter       MAU       DAU\n",
       "0    Q1'17  0.000000  0.000000\n",
       "1    Q2'17 -0.003058  0.009174\n",
       "2    Q3'17  0.009174  0.045872\n",
       "3    Q4'17  0.009174  0.055046\n",
       "4    Q1'18  0.027523  0.100917\n",
       "5    Q2'18  0.024465  0.119266\n",
       "6    Q3'18 -0.003058  0.137615\n",
       "7    Q4'18 -0.018349  0.155963\n",
       "8    Q1'19  0.009174  0.229358\n",
       "9    Q2'19  0.195719  0.275229\n",
       "10   Q3'19  0.220183  0.330275\n",
       "11   Q4'19  0.244648  0.394495"
      ]
     },
     "execution_count": 53,
     "metadata": {},
     "output_type": "execute_result"
    }
   ],
   "source": [
    "TwitterQoQ = Twitter.copy(deep=True)\n",
    "\n",
    "initialMAU = Twitter[\"MAU\"].iloc[0]\n",
    "initialDAU = Twitter[\"DAU\"].iloc[0]\n",
    "TwitterQoQ[\"MAU\"] = Twitter[\"MAU\"].apply(lambda x: (x-initialMAU)/initialMAU)\n",
    "TwitterQoQ[\"DAU\"] = Twitter[\"DAU\"].apply(lambda x: (x-initialDAU)/initialDAU)\n",
    "\n",
    "TwitterQoQ.to_csv(\"./TwitterQoQ.csv\")\n",
    "\n",
    "TwitterQoQ"
   ]
  },
  {
   "cell_type": "code",
   "execution_count": 64,
   "id": "ba39a335-8237-450b-a8c5-f0db72857a17",
   "metadata": {},
   "outputs": [
    {
     "name": "stderr",
     "output_type": "stream",
     "text": [
      "C:\\Users\\Dhanush\\AppData\\Local\\Temp/ipykernel_16376/3566818646.py:6: SettingWithCopyWarning: \n",
      "A value is trying to be set on a copy of a slice from a DataFrame\n",
      "\n",
      "See the caveats in the documentation: https://pandas.pydata.org/pandas-docs/stable/user_guide/indexing.html#returning-a-view-versus-a-copy\n",
      "  TwitterPoP[\"MAU\"].iloc[0] = 0\n",
      "C:\\Users\\Dhanush\\AppData\\Local\\Temp/ipykernel_16376/3566818646.py:7: SettingWithCopyWarning: \n",
      "A value is trying to be set on a copy of a slice from a DataFrame\n",
      "\n",
      "See the caveats in the documentation: https://pandas.pydata.org/pandas-docs/stable/user_guide/indexing.html#returning-a-view-versus-a-copy\n",
      "  TwitterPoP[\"DAU\"].iloc[0] = 0\n",
      "C:\\Users\\Dhanush\\AppData\\Local\\Temp/ipykernel_16376/3566818646.py:10: SettingWithCopyWarning: \n",
      "A value is trying to be set on a copy of a slice from a DataFrame\n",
      "\n",
      "See the caveats in the documentation: https://pandas.pydata.org/pandas-docs/stable/user_guide/indexing.html#returning-a-view-versus-a-copy\n",
      "  TwitterPoP[\"MAU\"].iloc[i] = (Twitter[\"MAU\"].iloc[i]-Twitter[\"MAU\"].iloc[i-1])/Twitter[\"MAU\"].iloc[i-1]\n",
      "C:\\Users\\Dhanush\\AppData\\Local\\Temp/ipykernel_16376/3566818646.py:11: SettingWithCopyWarning: \n",
      "A value is trying to be set on a copy of a slice from a DataFrame\n",
      "\n",
      "See the caveats in the documentation: https://pandas.pydata.org/pandas-docs/stable/user_guide/indexing.html#returning-a-view-versus-a-copy\n",
      "  TwitterPoP[\"DAU\"].iloc[i] = (Twitter[\"DAU\"].iloc[i]-Twitter[\"DAU\"].iloc[i-1])/Twitter[\"DAU\"].iloc[i-1]\n"
     ]
    }
   ],
   "source": [
    "TwitterPoP = Twitter.copy(deep=True)\n",
    "\n",
    "initialMAU = Twitter[\"MAU\"].iloc[0]\n",
    "initialDAU = Twitter[\"DAU\"].iloc[0]\n",
    "\n",
    "TwitterPoP[\"MAU\"].iloc[0] = 0\n",
    "TwitterPoP[\"DAU\"].iloc[0] = 0\n",
    "\n",
    "for i in range(1, len(Twitter.index)):\n",
    "    TwitterPoP[\"MAU\"].iloc[i] = (Twitter[\"MAU\"].iloc[i]-Twitter[\"MAU\"].iloc[i-1])/Twitter[\"MAU\"].iloc[i-1]\n",
    "    TwitterPoP[\"DAU\"].iloc[i] = (Twitter[\"DAU\"].iloc[i]-Twitter[\"DAU\"].iloc[i-1])/Twitter[\"DAU\"].iloc[i-1]\n",
    "\n",
    "TwitterPoP.to_csv(\"./TwitterPoP.csv\")"
   ]
  },
  {
   "cell_type": "code",
   "execution_count": 53,
   "id": "0c0b387b-5be1-4e6a-a4e1-0bde27b4b9ad",
   "metadata": {
    "tags": []
   },
   "outputs": [
    {
     "data": {
      "text/html": [
       "<div>\n",
       "<style scoped>\n",
       "    .dataframe tbody tr th:only-of-type {\n",
       "        vertical-align: middle;\n",
       "    }\n",
       "\n",
       "    .dataframe tbody tr th {\n",
       "        vertical-align: top;\n",
       "    }\n",
       "\n",
       "    .dataframe thead th {\n",
       "        text-align: right;\n",
       "    }\n",
       "</style>\n",
       "<table border=\"1\" class=\"dataframe\">\n",
       "  <thead>\n",
       "    <tr style=\"text-align: right;\">\n",
       "      <th></th>\n",
       "      <th>quarter</th>\n",
       "      <th>DAU</th>\n",
       "      <th>MAU</th>\n",
       "    </tr>\n",
       "  </thead>\n",
       "  <tbody>\n",
       "    <tr>\n",
       "      <th>0</th>\n",
       "      <td>Q1'17</td>\n",
       "      <td>0.000000</td>\n",
       "      <td>0.000000</td>\n",
       "    </tr>\n",
       "    <tr>\n",
       "      <th>1</th>\n",
       "      <td>Q2'17</td>\n",
       "      <td>0.031250</td>\n",
       "      <td>0.036082</td>\n",
       "    </tr>\n",
       "    <tr>\n",
       "      <th>2</th>\n",
       "      <td>Q3'17</td>\n",
       "      <td>0.070313</td>\n",
       "      <td>0.067010</td>\n",
       "    </tr>\n",
       "    <tr>\n",
       "      <th>3</th>\n",
       "      <td>Q4'17</td>\n",
       "      <td>0.093750</td>\n",
       "      <td>0.097938</td>\n",
       "    </tr>\n",
       "    <tr>\n",
       "      <th>4</th>\n",
       "      <td>Q1'18</td>\n",
       "      <td>0.132812</td>\n",
       "      <td>0.134021</td>\n",
       "    </tr>\n",
       "    <tr>\n",
       "      <th>5</th>\n",
       "      <td>Q2'18</td>\n",
       "      <td>0.148437</td>\n",
       "      <td>0.149485</td>\n",
       "    </tr>\n",
       "    <tr>\n",
       "      <th>6</th>\n",
       "      <td>Q3'18</td>\n",
       "      <td>0.164062</td>\n",
       "      <td>0.170103</td>\n",
       "    </tr>\n",
       "    <tr>\n",
       "      <th>7</th>\n",
       "      <td>Q4'18</td>\n",
       "      <td>0.187500</td>\n",
       "      <td>0.195876</td>\n",
       "    </tr>\n",
       "    <tr>\n",
       "      <th>8</th>\n",
       "      <td>Q1'19</td>\n",
       "      <td>0.218750</td>\n",
       "      <td>0.226804</td>\n",
       "    </tr>\n",
       "    <tr>\n",
       "      <th>9</th>\n",
       "      <td>Q2'19</td>\n",
       "      <td>0.242188</td>\n",
       "      <td>0.242268</td>\n",
       "    </tr>\n",
       "    <tr>\n",
       "      <th>10</th>\n",
       "      <td>Q3'19</td>\n",
       "      <td>0.265625</td>\n",
       "      <td>0.262887</td>\n",
       "    </tr>\n",
       "    <tr>\n",
       "      <th>11</th>\n",
       "      <td>Q4'19</td>\n",
       "      <td>0.296875</td>\n",
       "      <td>0.288660</td>\n",
       "    </tr>\n",
       "  </tbody>\n",
       "</table>\n",
       "</div>"
      ],
      "text/plain": [
       "   quarter       DAU       MAU\n",
       "0    Q1'17  0.000000  0.000000\n",
       "1    Q2'17  0.031250  0.036082\n",
       "2    Q3'17  0.070313  0.067010\n",
       "3    Q4'17  0.093750  0.097938\n",
       "4    Q1'18  0.132812  0.134021\n",
       "5    Q2'18  0.148437  0.149485\n",
       "6    Q3'18  0.164062  0.170103\n",
       "7    Q4'18  0.187500  0.195876\n",
       "8    Q1'19  0.218750  0.226804\n",
       "9    Q2'19  0.242188  0.242268\n",
       "10   Q3'19  0.265625  0.262887\n",
       "11   Q4'19  0.296875  0.288660"
      ]
     },
     "execution_count": 53,
     "metadata": {},
     "output_type": "execute_result"
    }
   ],
   "source": [
    "FacebookQoQ = Facebook.copy(deep=True)\n",
    "\n",
    "initialMAU = Facebook[\"MAU\"].iloc[0]\n",
    "initialDAU = Facebook[\"DAU\"].iloc[0]\n",
    "FacebookQoQ[\"MAU\"] = Facebook[\"MAU\"].apply(lambda x: (x-initialMAU)/initialMAU)\n",
    "FacebookQoQ[\"DAU\"] = Facebook[\"DAU\"].apply(lambda x: (x-initialDAU)/initialDAU)\n",
    "\n",
    "FacebookQoQ.to_csv(\"./FacebookQoQ.csv\")"
   ]
  },
  {
   "cell_type": "code",
   "execution_count": 50,
   "id": "74076f8b-5f83-4c98-bb8a-debbb191b2ee",
   "metadata": {},
   "outputs": [
    {
     "data": {
      "image/png": "[encoded data removed]",
      "text/plain": [
       "<Figure size 1440x576 with 1 Axes>"
      ]
     },
     "metadata": {
      "needs_background": "light"
     },
     "output_type": "display_data"
    }
   ],
   "source": [
    "plt.figure(figsize=(20, 8))\n",
    "plt.plot(FacebookQoQ[\"quarter\"], FacebookQoQ[\"DAU\"], \"k--o\", label=\"Facebook\")\n",
    "plt.plot(TwitterQoQ[\"quarter\"], TwitterQoQ[\"DAU\"]/1000, \"r--o\", label=\"Twitter\")\n",
    "plt.xlabel(\"Quarters\")\n",
    "plt.ylabel(\"Growth Rate\")\n",
    "plt.legend()\n",
    "\n",
    "plt.show()"
   ]
  },
  {
   "cell_type": "code",
   "execution_count": 51,
   "id": "d4e3b190-82ff-4023-902f-12de0d046763",
   "metadata": {},
   "outputs": [
    {
     "data": {
      "image/png": "[encoded data removed]",
      "text/plain": [
       "<Figure size 1440x576 with 1 Axes>"
      ]
     },
     "metadata": {
      "needs_background": "light"
     },
     "output_type": "display_data"
    }
   ],
   "source": [
    "plt.figure(figsize=(20, 8))\n",
    "plt.plot(FacebookQoQ[\"quarter\"], FacebookQoQ[\"MAU\"], \"k--o\", label=\"Facebook\")\n",
    "plt.plot(TwitterQoQ[\"quarter\"], TwitterQoQ[\"MAU\"]/1000, \"r--o\", label=\"Twitter\")\n",
    "plt.xlabel(\"Quarters\")\n",
    "plt.ylabel(\"Growth Rate\")\n",
    "plt.legend()\n",
    "\n",
    "plt.show()"
   ]
  },
  {
   "cell_type": "code",
   "execution_count": null,
   "id": "96445391-44b0-4c9c-9098-842c62cddabe",
   "metadata": {},
   "outputs": [],
   "source": []
  }
 ],
 "metadata": {
  "kernelspec": {
   "display_name": "Python 3 (ipykernel)",
   "language": "python",
   "name": "python3"
  },
  "language_info": {
   "codemirror_mode": {
    "name": "ipython",
    "version": 3
   },
   "file_extension": ".py",
   "mimetype": "text/x-python",
   "name": "python",
   "nbconvert_exporter": "python",
   "pygments_lexer": "ipython3",
   "version": "3.10.8"
  },
  "vscode": {
   "interpreter": {
    "hash": "d879349fd60745b6f0d8d64158e1cdda9be777b3ad1aef067859c45f3b4f0445"
   }
  },
  "widgets": {
   "application/vnd.jupyter.widget-state+json": {
    "state": {},
    "version_major": 2,
    "version_minor": 0
   }
  }
 },
 "nbformat": 4,
 "nbformat_minor": 5
}
