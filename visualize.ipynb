{
 "cells": [
  {
   "cell_type": "code",
   "execution_count": 1,
   "id": "98f69422-bf2f-43f0-8dd8-cf6f72ad74c4",
   "metadata": {},
   "outputs": [],
   "source": [
    "import seaborn as sns\n",
    "import pandas as pd\n",
    "\n",
    "import matplotlib.pyplot as plt"
   ]
  },
  {
   "cell_type": "code",
   "execution_count": 2,
   "id": "a88b578a-ecb3-4c6e-8eaf-a93c23292154",
   "metadata": {},
   "outputs": [],
   "source": [
    "fb = pd.read_csv(\"./FB.csv\")\n",
    "twMAU = pd.read_csv(\"./TwitterMAU.csv\")\n",
    "tw = pd.read_csv(\"./Tw.csv\")"
   ]
  },
  {
   "cell_type": "code",
   "execution_count": 3,
   "id": "234b6d34-2e63-4419-b236-c6ebfe9b2826",
   "metadata": {},
   "outputs": [],
   "source": [
    "twMAU = twMAU.iloc[::-1]"
   ]
  },
  {
   "cell_type": "code",
   "execution_count": 4,
   "id": "d274bf65-53e0-431e-98db-fe408f0751e8",
   "metadata": {},
   "outputs": [],
   "source": [
    "fb = fb.iloc[::-1]"
   ]
  },
  {
   "cell_type": "code",
   "execution_count": 5,
   "id": "62ef202f-6f5e-470f-a348-a11a939cefff",
   "metadata": {},
   "outputs": [],
   "source": [
    "def fixQuarter(quarter : str, social : str):\n",
    "    data = quarter.split(\" \")\n",
    "    \n",
    "    if social == 'fb':\n",
    "        data = data[:-1]\n",
    "    \n",
    "    return data[0] + \"'\" + data[1][-2:]\n",
    "\n",
    "def fixTwQuarter(quarter : str):\n",
    "    data = quarter.split(\" \")\n",
    "    \n",
    "\n",
    "fb['quarter'] = fb['quarter'].apply(lambda quarter: fixQuarter(quarter, 'fb'))\n",
    "twMAU['quarter'] = twMAU['quarter'].apply(lambda quarter: fixQuarter(quarter, 'Tw'))"
   ]
  },
  {
   "cell_type": "code",
   "execution_count": 6,
   "id": "9d030722-b747-4f39-86b3-90c7099f3684",
   "metadata": {},
   "outputs": [
    {
     "data": {
      "text/html": [
       "<div>\n",
       "<style scoped>\n",
       "    .dataframe tbody tr th:only-of-type {\n",
       "        vertical-align: middle;\n",
       "    }\n",
       "\n",
       "    .dataframe tbody tr th {\n",
       "        vertical-align: top;\n",
       "    }\n",
       "\n",
       "    .dataframe thead th {\n",
       "        text-align: right;\n",
       "    }\n",
       "</style>\n",
       "<table border=\"1\" class=\"dataframe\">\n",
       "  <thead>\n",
       "    <tr style=\"text-align: right;\">\n",
       "      <th></th>\n",
       "      <th>quarter</th>\n",
       "      <th>DAU</th>\n",
       "      <th>MAU</th>\n",
       "    </tr>\n",
       "  </thead>\n",
       "  <tbody>\n",
       "    <tr>\n",
       "      <th>0</th>\n",
       "      <td>Q1'17</td>\n",
       "      <td>109</td>\n",
       "      <td>327.0</td>\n",
       "    </tr>\n",
       "    <tr>\n",
       "      <th>1</th>\n",
       "      <td>Q2'17</td>\n",
       "      <td>110</td>\n",
       "      <td>326.0</td>\n",
       "    </tr>\n",
       "    <tr>\n",
       "      <th>2</th>\n",
       "      <td>Q3'17</td>\n",
       "      <td>114</td>\n",
       "      <td>330.0</td>\n",
       "    </tr>\n",
       "    <tr>\n",
       "      <th>3</th>\n",
       "      <td>Q4'17</td>\n",
       "      <td>115</td>\n",
       "      <td>330.0</td>\n",
       "    </tr>\n",
       "    <tr>\n",
       "      <th>4</th>\n",
       "      <td>Q1'18</td>\n",
       "      <td>120</td>\n",
       "      <td>336.0</td>\n",
       "    </tr>\n",
       "    <tr>\n",
       "      <th>5</th>\n",
       "      <td>Q2'18</td>\n",
       "      <td>122</td>\n",
       "      <td>335.0</td>\n",
       "    </tr>\n",
       "    <tr>\n",
       "      <th>6</th>\n",
       "      <td>Q3'18</td>\n",
       "      <td>124</td>\n",
       "      <td>326.0</td>\n",
       "    </tr>\n",
       "    <tr>\n",
       "      <th>7</th>\n",
       "      <td>Q4'18</td>\n",
       "      <td>126</td>\n",
       "      <td>321.0</td>\n",
       "    </tr>\n",
       "    <tr>\n",
       "      <th>8</th>\n",
       "      <td>Q1'19</td>\n",
       "      <td>134</td>\n",
       "      <td>330.0</td>\n",
       "    </tr>\n",
       "  </tbody>\n",
       "</table>\n",
       "</div>"
      ],
      "text/plain": [
       "  quarter  DAU    MAU\n",
       "0   Q1'17  109  327.0\n",
       "1   Q2'17  110  326.0\n",
       "2   Q3'17  114  330.0\n",
       "3   Q4'17  115  330.0\n",
       "4   Q1'18  120  336.0\n",
       "5   Q2'18  122  335.0\n",
       "6   Q3'18  124  326.0\n",
       "7   Q4'18  126  321.0\n",
       "8   Q1'19  134  330.0"
      ]
     },
     "execution_count": 6,
     "metadata": {},
     "output_type": "execute_result"
    }
   ],
   "source": [
    "pd.merge(tw, twMAU, on=\"quarter\")"
   ]
  },
  {
   "cell_type": "code",
   "execution_count": 7,
   "id": "f3df17af-9e23-4cf6-b505-98cf8bd2b3c6",
   "metadata": {},
   "outputs": [
    {
     "data": {
      "text/html": [
       "<div>\n",
       "<style scoped>\n",
       "    .dataframe tbody tr th:only-of-type {\n",
       "        vertical-align: middle;\n",
       "    }\n",
       "\n",
       "    .dataframe tbody tr th {\n",
       "        vertical-align: top;\n",
       "    }\n",
       "\n",
       "    .dataframe thead th {\n",
       "        text-align: right;\n",
       "    }\n",
       "</style>\n",
       "<table border=\"1\" class=\"dataframe\">\n",
       "  <thead>\n",
       "    <tr style=\"text-align: right;\">\n",
       "      <th></th>\n",
       "      <th>quarter</th>\n",
       "      <th>MAU</th>\n",
       "    </tr>\n",
       "  </thead>\n",
       "  <tbody>\n",
       "    <tr>\n",
       "      <th>32</th>\n",
       "      <td>Q1'11</td>\n",
       "      <td>68.0</td>\n",
       "    </tr>\n",
       "    <tr>\n",
       "      <th>31</th>\n",
       "      <td>Q2'11</td>\n",
       "      <td>85.0</td>\n",
       "    </tr>\n",
       "    <tr>\n",
       "      <th>30</th>\n",
       "      <td>Q3'11</td>\n",
       "      <td>101.0</td>\n",
       "    </tr>\n",
       "    <tr>\n",
       "      <th>29</th>\n",
       "      <td>Q4'11</td>\n",
       "      <td>117.0</td>\n",
       "    </tr>\n",
       "    <tr>\n",
       "      <th>28</th>\n",
       "      <td>Q1'12</td>\n",
       "      <td>138.0</td>\n",
       "    </tr>\n",
       "    <tr>\n",
       "      <th>27</th>\n",
       "      <td>Q2'12</td>\n",
       "      <td>151.0</td>\n",
       "    </tr>\n",
       "    <tr>\n",
       "      <th>26</th>\n",
       "      <td>Q3'12</td>\n",
       "      <td>167.0</td>\n",
       "    </tr>\n",
       "    <tr>\n",
       "      <th>25</th>\n",
       "      <td>Q4'12</td>\n",
       "      <td>185.0</td>\n",
       "    </tr>\n",
       "    <tr>\n",
       "      <th>24</th>\n",
       "      <td>Q1'13</td>\n",
       "      <td>204.0</td>\n",
       "    </tr>\n",
       "    <tr>\n",
       "      <th>23</th>\n",
       "      <td>Q2'13</td>\n",
       "      <td>218.0</td>\n",
       "    </tr>\n",
       "    <tr>\n",
       "      <th>22</th>\n",
       "      <td>Q3'13</td>\n",
       "      <td>231.7</td>\n",
       "    </tr>\n",
       "    <tr>\n",
       "      <th>21</th>\n",
       "      <td>Q4'13</td>\n",
       "      <td>241.0</td>\n",
       "    </tr>\n",
       "    <tr>\n",
       "      <th>20</th>\n",
       "      <td>Q1'14</td>\n",
       "      <td>255.0</td>\n",
       "    </tr>\n",
       "    <tr>\n",
       "      <th>19</th>\n",
       "      <td>Q2'14</td>\n",
       "      <td>271.0</td>\n",
       "    </tr>\n",
       "    <tr>\n",
       "      <th>18</th>\n",
       "      <td>Q3'14</td>\n",
       "      <td>284.0</td>\n",
       "    </tr>\n",
       "    <tr>\n",
       "      <th>17</th>\n",
       "      <td>Q4'14</td>\n",
       "      <td>288.0</td>\n",
       "    </tr>\n",
       "    <tr>\n",
       "      <th>16</th>\n",
       "      <td>Q1'15</td>\n",
       "      <td>302.0</td>\n",
       "    </tr>\n",
       "    <tr>\n",
       "      <th>15</th>\n",
       "      <td>Q2'15</td>\n",
       "      <td>304.0</td>\n",
       "    </tr>\n",
       "    <tr>\n",
       "      <th>14</th>\n",
       "      <td>Q3'15</td>\n",
       "      <td>307.0</td>\n",
       "    </tr>\n",
       "    <tr>\n",
       "      <th>13</th>\n",
       "      <td>Q4'15</td>\n",
       "      <td>305.0</td>\n",
       "    </tr>\n",
       "    <tr>\n",
       "      <th>12</th>\n",
       "      <td>Q1'16</td>\n",
       "      <td>310.0</td>\n",
       "    </tr>\n",
       "    <tr>\n",
       "      <th>11</th>\n",
       "      <td>Q2'16</td>\n",
       "      <td>313.0</td>\n",
       "    </tr>\n",
       "    <tr>\n",
       "      <th>10</th>\n",
       "      <td>Q3'16</td>\n",
       "      <td>317.0</td>\n",
       "    </tr>\n",
       "    <tr>\n",
       "      <th>9</th>\n",
       "      <td>Q4'16</td>\n",
       "      <td>318.0</td>\n",
       "    </tr>\n",
       "    <tr>\n",
       "      <th>8</th>\n",
       "      <td>Q1'17</td>\n",
       "      <td>327.0</td>\n",
       "    </tr>\n",
       "    <tr>\n",
       "      <th>7</th>\n",
       "      <td>Q2'17</td>\n",
       "      <td>326.0</td>\n",
       "    </tr>\n",
       "    <tr>\n",
       "      <th>6</th>\n",
       "      <td>Q3'17</td>\n",
       "      <td>330.0</td>\n",
       "    </tr>\n",
       "    <tr>\n",
       "      <th>5</th>\n",
       "      <td>Q4'17</td>\n",
       "      <td>330.0</td>\n",
       "    </tr>\n",
       "    <tr>\n",
       "      <th>4</th>\n",
       "      <td>Q1'18</td>\n",
       "      <td>336.0</td>\n",
       "    </tr>\n",
       "    <tr>\n",
       "      <th>3</th>\n",
       "      <td>Q2'18</td>\n",
       "      <td>335.0</td>\n",
       "    </tr>\n",
       "    <tr>\n",
       "      <th>2</th>\n",
       "      <td>Q3'18</td>\n",
       "      <td>326.0</td>\n",
       "    </tr>\n",
       "    <tr>\n",
       "      <th>1</th>\n",
       "      <td>Q4'18</td>\n",
       "      <td>321.0</td>\n",
       "    </tr>\n",
       "    <tr>\n",
       "      <th>0</th>\n",
       "      <td>Q1'19</td>\n",
       "      <td>330.0</td>\n",
       "    </tr>\n",
       "  </tbody>\n",
       "</table>\n",
       "</div>"
      ],
      "text/plain": [
       "   quarter    MAU\n",
       "32   Q1'11   68.0\n",
       "31   Q2'11   85.0\n",
       "30   Q3'11  101.0\n",
       "29   Q4'11  117.0\n",
       "28   Q1'12  138.0\n",
       "27   Q2'12  151.0\n",
       "26   Q3'12  167.0\n",
       "25   Q4'12  185.0\n",
       "24   Q1'13  204.0\n",
       "23   Q2'13  218.0\n",
       "22   Q3'13  231.7\n",
       "21   Q4'13  241.0\n",
       "20   Q1'14  255.0\n",
       "19   Q2'14  271.0\n",
       "18   Q3'14  284.0\n",
       "17   Q4'14  288.0\n",
       "16   Q1'15  302.0\n",
       "15   Q2'15  304.0\n",
       "14   Q3'15  307.0\n",
       "13   Q4'15  305.0\n",
       "12   Q1'16  310.0\n",
       "11   Q2'16  313.0\n",
       "10   Q3'16  317.0\n",
       "9    Q4'16  318.0\n",
       "8    Q1'17  327.0\n",
       "7    Q2'17  326.0\n",
       "6    Q3'17  330.0\n",
       "5    Q4'17  330.0\n",
       "4    Q1'18  336.0\n",
       "3    Q2'18  335.0\n",
       "2    Q3'18  326.0\n",
       "1    Q4'18  321.0\n",
       "0    Q1'19  330.0"
      ]
     },
     "execution_count": 7,
     "metadata": {},
     "output_type": "execute_result"
    }
   ],
   "source": [
    "twMAU"
   ]
  },
  {
   "cell_type": "code",
   "execution_count": 8,
   "id": "cafb8617-2291-48f2-94a8-7a2d58a949d6",
   "metadata": {},
   "outputs": [
    {
     "data": {
      "text/plain": [
       "<AxesSubplot:xlabel='quarter', ylabel='DAU'>"
      ]
     },
     "execution_count": 8,
     "metadata": {},
     "output_type": "execute_result"
    },
    {
     "data": {
      "image/png": "[encoded data removed]",
      "text/plain": [
       "<Figure size 2160x1152 with 1 Axes>"
      ]
     },
     "metadata": {
      "needs_background": "light"
     },
     "output_type": "display_data"
    }
   ],
   "source": [
    "plt.figure(figsize=(30, 16))\n",
    "sns.barplot(x = 'quarter', y = 'DAU', data=fb)"
   ]
  },
  {
   "cell_type": "code",
   "execution_count": 132,
   "id": "b5050f4e-9043-4418-a3c4-fd28f81a1db1",
   "metadata": {},
   "outputs": [],
   "source": [
    "# dataframe with corrected indexing...\n",
    "newTwitterMAU = pd.DataFrame(twMAU.iloc[:,:].values,columns=[\"quarter\",\"MAU\"])"
   ]
  },
  {
   "cell_type": "code",
   "execution_count": 133,
   "id": "a3329868-a335-45cc-810b-7b472b3a39e3",
   "metadata": {},
   "outputs": [
    {
     "name": "stdout",
     "output_type": "stream",
     "text": [
      "33\n"
     ]
    }
   ],
   "source": [
    "# finding appropriate time indices:\n",
    "print(len(newTwitterMAU['MAU']))\n",
    "n = len(newTwitterMAU['MAU'])\n",
    "\n",
    "time_col_values = []\n",
    "    \n",
    "if n%2 == 0:\n",
    "    time_col_values = [x for x in range(-(n-1),n,2)]\n",
    "else:\n",
    "    time_col_values = [x for x in range(-(n//2),(n//2)+1)]\n",
    "    "
   ]
  },
  {
   "cell_type": "code",
   "execution_count": 134,
   "id": "0bb7af7b-484f-4c9c-90d2-f852efcc820b",
   "metadata": {},
   "outputs": [
    {
     "data": {
      "text/plain": [
       "list"
      ]
     },
     "execution_count": 134,
     "metadata": {},
     "output_type": "execute_result"
    }
   ],
   "source": [
    "type(time_col_values)"
   ]
  },
  {
   "cell_type": "code",
   "execution_count": 135,
   "id": "5690c446-d814-4bc8-b746-6971ff07b4c6",
   "metadata": {},
   "outputs": [],
   "source": [
    "import numpy as np\n",
    "\n",
    "# adding the time dummy:\n",
    "newTwitterMAU['time'] = np.arange(len(newTwitterMAU.index)) #better option :')\n",
    "\n",
    "# newTwitterMAU['time'] = time_col_values \n",
    "\n",
    "# updated dataframe\n",
    "# print(newTwitterMAU)"
   ]
  },
  {
   "cell_type": "code",
   "execution_count": 136,
   "id": "e4466770-8f32-4cdf-80e3-7257294d96b2",
   "metadata": {},
   "outputs": [],
   "source": [
    "from sklearn.linear_model import LinearRegression"
   ]
  },
  {
   "cell_type": "code",
   "execution_count": 137,
   "id": "11b4ed6b-1188-4fd4-9daa-deb46218e602",
   "metadata": {},
   "outputs": [],
   "source": [
    "df = newTwitterMAU.copy()"
   ]
  },
  {
   "cell_type": "code",
   "execution_count": 138,
   "id": "f45fc07d-5a47-4aab-96bf-80495f8508fd",
   "metadata": {},
   "outputs": [
    {
     "data": {
      "text/html": [
       "<style>#sk-container-id-14 {color: black;background-color: white;}#sk-container-id-14 pre{padding: 0;}#sk-container-id-14 div.sk-toggleable {background-color: white;}#sk-container-id-14 label.sk-toggleable__label {cursor: pointer;display: block;width: 100%;margin-bottom: 0;padding: 0.3em;box-sizing: border-box;text-align: center;}#sk-container-id-14 label.sk-toggleable__label-arrow:before {content: \"▸\";float: left;margin-right: 0.25em;color: #696969;}#sk-container-id-14 label.sk-toggleable__label-arrow:hover:before {color: black;}#sk-container-id-14 div.sk-estimator:hover label.sk-toggleable__label-arrow:before {color: black;}#sk-container-id-14 div.sk-toggleable__content {max-height: 0;max-width: 0;overflow: hidden;text-align: left;background-color: #f0f8ff;}#sk-container-id-14 div.sk-toggleable__content pre {margin: 0.2em;color: black;border-radius: 0.25em;background-color: #f0f8ff;}#sk-container-id-14 input.sk-toggleable__control:checked~div.sk-toggleable__content {max-height: 200px;max-width: 100%;overflow: auto;}#sk-container-id-14 input.sk-toggleable__control:checked~label.sk-toggleable__label-arrow:before {content: \"▾\";}#sk-container-id-14 div.sk-estimator input.sk-toggleable__control:checked~label.sk-toggleable__label {background-color: #d4ebff;}#sk-container-id-14 div.sk-label input.sk-toggleable__control:checked~label.sk-toggleable__label {background-color: #d4ebff;}#sk-container-id-14 input.sk-hidden--visually {border: 0;clip: rect(1px 1px 1px 1px);clip: rect(1px, 1px, 1px, 1px);height: 1px;margin: -1px;overflow: hidden;padding: 0;position: absolute;width: 1px;}#sk-container-id-14 div.sk-estimator {font-family: monospace;background-color: #f0f8ff;border: 1px dotted black;border-radius: 0.25em;box-sizing: border-box;margin-bottom: 0.5em;}#sk-container-id-14 div.sk-estimator:hover {background-color: #d4ebff;}#sk-container-id-14 div.sk-parallel-item::after {content: \"\";width: 100%;border-bottom: 1px solid gray;flex-grow: 1;}#sk-container-id-14 div.sk-label:hover label.sk-toggleable__label {background-color: #d4ebff;}#sk-container-id-14 div.sk-serial::before {content: \"\";position: absolute;border-left: 1px solid gray;box-sizing: border-box;top: 0;bottom: 0;left: 50%;z-index: 0;}#sk-container-id-14 div.sk-serial {display: flex;flex-direction: column;align-items: center;background-color: white;padding-right: 0.2em;padding-left: 0.2em;position: relative;}#sk-container-id-14 div.sk-item {position: relative;z-index: 1;}#sk-container-id-14 div.sk-parallel {display: flex;align-items: stretch;justify-content: center;background-color: white;position: relative;}#sk-container-id-14 div.sk-item::before, #sk-container-id-14 div.sk-parallel-item::before {content: \"\";position: absolute;border-left: 1px solid gray;box-sizing: border-box;top: 0;bottom: 0;left: 50%;z-index: -1;}#sk-container-id-14 div.sk-parallel-item {display: flex;flex-direction: column;z-index: 1;position: relative;background-color: white;}#sk-container-id-14 div.sk-parallel-item:first-child::after {align-self: flex-end;width: 50%;}#sk-container-id-14 div.sk-parallel-item:last-child::after {align-self: flex-start;width: 50%;}#sk-container-id-14 div.sk-parallel-item:only-child::after {width: 0;}#sk-container-id-14 div.sk-dashed-wrapped {border: 1px dashed gray;margin: 0 0.4em 0.5em 0.4em;box-sizing: border-box;padding-bottom: 0.4em;background-color: white;}#sk-container-id-14 div.sk-label label {font-family: monospace;font-weight: bold;display: inline-block;line-height: 1.2em;}#sk-container-id-14 div.sk-label-container {text-align: center;}#sk-container-id-14 div.sk-container {/* jupyter's `normalize.less` sets `[hidden] { display: none; }` but bootstrap.min.css set `[hidden] { display: none !important; }` so we also need the `!important` here to be able to override the default hidden behavior on the sphinx rendered scikit-learn.org. See: https://github.com/scikit-learn/scikit-learn/issues/21755 */display: inline-block !important;position: relative;}#sk-container-id-14 div.sk-text-repr-fallback {display: none;}</style><div id=\"sk-container-id-14\" class=\"sk-top-container\"><div class=\"sk-text-repr-fallback\"><pre>LinearRegression()</pre><b>In a Jupyter environment, please rerun this cell to show the HTML representation or trust the notebook. <br />On GitHub, the HTML representation is unable to render, please try loading this page with nbviewer.org.</b></div><div class=\"sk-container\" hidden><div class=\"sk-item\"><div class=\"sk-estimator sk-toggleable\"><input class=\"sk-toggleable__control sk-hidden--visually\" id=\"sk-estimator-id-14\" type=\"checkbox\" checked><label for=\"sk-estimator-id-14\" class=\"sk-toggleable__label sk-toggleable__label-arrow\">LinearRegression</label><div class=\"sk-toggleable__content\"><pre>LinearRegression()</pre></div></div></div></div></div>"
      ],
      "text/plain": [
       "LinearRegression()"
      ]
     },
     "execution_count": 138,
     "metadata": {},
     "output_type": "execute_result"
    }
   ],
   "source": [
    "#training data:\n",
    "\n",
    "X = df.loc[:,['time']]\n",
    "Y = df.loc[:,['MAU']]\n",
    "\n",
    "model = LinearRegression()\n",
    "model.fit(X,Y)"
   ]
  },
  {
   "cell_type": "code",
   "execution_count": 139,
   "id": "c862548e-1cdb-4910-a62f-bda2b223944a",
   "metadata": {},
   "outputs": [],
   "source": [
    "# a list with time indices corressponding to future quarters:\n",
    "time_indices = range(33,65) #Q2 2019 to #Q4 2021 \n",
    "\n",
    "data_values = {\"time\":time_indices}\n",
    "\n",
    "# test data\n",
    "x_test = pd.DataFrame(data_values)\n",
    "# print(x_test)"
   ]
  },
  {
   "cell_type": "code",
   "execution_count": 140,
   "id": "307e616e-6a7f-4d22-8b2e-0c5a42b80031",
   "metadata": {},
   "outputs": [],
   "source": [
    "y_pred = model.predict(x_test)"
   ]
  },
  {
   "cell_type": "code",
   "execution_count": 141,
   "id": "8e891b2b-c24d-4f87-a9e4-49288d3047e2",
   "metadata": {},
   "outputs": [
    {
     "name": "stdout",
     "output_type": "stream",
     "text": [
      "[[391.60340909]\n",
      " [399.59131016]\n",
      " [407.57921123]\n",
      " [415.5671123 ]\n",
      " [423.55501337]\n",
      " [431.54291444]\n",
      " [439.53081551]\n",
      " [447.51871658]\n",
      " [455.50661765]\n",
      " [463.49451872]]\n"
     ]
    }
   ],
   "source": [
    "print(y_pred[:10])"
   ]
  },
  {
   "cell_type": "code",
   "execution_count": 142,
   "id": "a1a56553-1ef4-4b66-bdc4-e590252afbd7",
   "metadata": {},
   "outputs": [
    {
     "data": {
      "image/png": "[encoded data removed]",
      "text/plain": [
       "<Figure size 432x288 with 1 Axes>"
      ]
     },
     "metadata": {
      "needs_background": "light"
     },
     "output_type": "display_data"
    }
   ],
   "source": [
    "plt.scatter(newTwitterMAU['quarter'],newTwitterMAU['MAU'])\n",
    "plt.show()"
   ]
  },
  {
   "cell_type": "code",
   "execution_count": 143,
   "id": "8981a1f7-82a3-48bd-8ce6-e73406330867",
   "metadata": {},
   "outputs": [
    {
     "data": {
      "image/png": "[encoded data removed]",
      "text/plain": [
       "<Figure size 432x288 with 1 Axes>"
      ]
     },
     "metadata": {
      "needs_background": "light"
     },
     "output_type": "display_data"
    }
   ],
   "source": [
    "plt.scatter(x_test,y_pred)\n",
    "plt.show()"
   ]
  },
  {
   "cell_type": "code",
   "execution_count": null,
   "id": "016efc3a-a9bf-447a-8710-8893a7fe9eb0",
   "metadata": {},
   "outputs": [],
   "source": []
  }
 ],
 "metadata": {
  "kernelspec": {
   "display_name": "Python 3.10.0 64-bit",
   "language": "python",
   "name": "python3"
  },
  "language_info": {
   "codemirror_mode": {
    "name": "ipython",
    "version": 3
   },
   "file_extension": ".py",
   "mimetype": "text/x-python",
   "name": "python",
   "nbconvert_exporter": "python",
   "pygments_lexer": "ipython3",
   "version": "3.10.0"
  },
  "vscode": {
   "interpreter": {
    "hash": "d879349fd60745b6f0d8d64158e1cdda9be777b3ad1aef067859c45f3b4f0445"
   }
  },
  "widgets": {
   "application/vnd.jupyter.widget-state+json": {
    "state": {},
    "version_major": 2,
    "version_minor": 0
   }
  }
 },
 "nbformat": 4,
 "nbformat_minor": 5
}
